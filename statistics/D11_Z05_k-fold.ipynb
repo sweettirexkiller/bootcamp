{
 "cells": [
  {
   "cell_type": "markdown",
   "metadata": {},
   "source": [
    "# Cross validation"
   ]
  },
  {
   "cell_type": "code",
   "execution_count": 1,
   "metadata": {},
   "outputs": [],
   "source": [
    "import numpy as np\n",
    "import pandas as pd\n",
    "import scipy.stats as stats\n",
    "import sklearn.linear_model as lm\n",
    "from sklearn import datasets, linear_model\n",
    "import matplotlib.pyplot as plt\n",
    "\n",
    "from sklearn.preprocessing import PolynomialFeatures\n",
    "from sklearn.pipeline import make_pipeline\n",
    "\n",
    "from sklearn import  metrics"
   ]
  },
  {
   "cell_type": "markdown",
   "metadata": {},
   "source": [
    "Rozważmy następujący zbiór punktów:"
   ]
  },
  {
   "cell_type": "code",
   "execution_count": 2,
   "metadata": {},
   "outputs": [
    {
     "data": {
      "image/png": "[encoded data removed]",
      "text/plain": [
       "<Figure size 432x288 with 1 Axes>"
      ]
     },
     "metadata": {},
     "output_type": "display_data"
    }
   ],
   "source": [
    "x = stats.uniform(0,3).rvs(100)\n",
    "f = lambda x: ((x*2-1)*(x**2-2)*(x-2)+3)\n",
    "y = f(x) + stats.norm(0,0.3).rvs(len(x))\n",
    "plt.plot(x, y, 'ok', ms=10);\n",
    "plt.show()"
   ]
  },
  {
   "cell_type": "code",
   "execution_count": 3,
   "metadata": {},
   "outputs": [],
   "source": [
    "x=np.vstack(x)"
   ]
  },
  {
   "cell_type": "markdown",
   "metadata": {},
   "source": [
    "# k-fold"
   ]
  },
  {
   "cell_type": "code",
   "execution_count": 4,
   "metadata": {},
   "outputs": [
    {
     "data": {
      "text/plain": [
       "3"
      ]
     },
     "execution_count": 4,
     "metadata": {},
     "output_type": "execute_result"
    }
   ],
   "source": [
    "from sklearn.model_selection import KFold, cross_val_score\n",
    "kf = KFold(n_splits=3)\n",
    "kf.get_n_splits(x)"
   ]
  },
  {
   "cell_type": "code",
   "execution_count": 5,
   "metadata": {},
   "outputs": [
    {
     "name": "stdout",
     "output_type": "stream",
     "text": [
      "0.6462713025764937\n",
      "0.6703829027493595\n",
      "0.7666323787691394\n",
      "[0.6462713025764937, 0.6703829027493595, 0.7666323787691394]\n"
     ]
    },
    {
     "name": "stderr",
     "output_type": "stream",
     "text": [
      "/usr/local/lib/python2.7/site-packages/sklearn/linear_model/base.py:509: RuntimeWarning: internal gelsd driver lwork query error, required iwork dimension not returned. This is likely the result of LAPACK bug 0038, fixed in LAPACK 3.2.2 (released July 21, 2010). Falling back to 'gelss' driver.\n",
      "  linalg.lstsq(X, y)\n"
     ]
    }
   ],
   "source": [
    "scores = list()\n",
    "model2 = make_pipeline(PolynomialFeatures(2), linear_model.LinearRegression())\n",
    "for train_index, test_index in kf.split(x):\n",
    "    #print(\"TRAIN:\", train_index, \"TEST:\", test_index)\n",
    "    X_train, X_test = x[train_index], x[test_index]\n",
    "    y_train, y_test = y[train_index], y[test_index]\n",
    "    scores.append(model2.fit(X_train, y_train).score(X_test, y_test))\n",
    "    print(model2.fit(X_train, y_train).score(X_test, y_test))\n",
    "print(scores)"
   ]
  },
  {
   "cell_type": "code",
   "execution_count": 6,
   "metadata": {},
   "outputs": [
    {
     "data": {
      "text/plain": [
       "[0.6462713025764937, 0.6703829027493595, 0.7666323787691394]"
      ]
     },
     "execution_count": 6,
     "metadata": {},
     "output_type": "execute_result"
    }
   ],
   "source": [
    "kfold = KFold(n_splits=3)\n",
    "[model2.fit(x[train], y[train]).score(x[test], y[test]) for train, test in kfold.split(x)]"
   ]
  },
  {
   "cell_type": "markdown",
   "metadata": {},
   "source": [
    "# cross_val_score"
   ]
  },
  {
   "cell_type": "code",
   "execution_count": 7,
   "metadata": {},
   "outputs": [
    {
     "data": {
      "text/plain": [
       "array([0.6462713 , 0.6703829 , 0.76663238])"
      ]
     },
     "execution_count": 7,
     "metadata": {},
     "output_type": "execute_result"
    }
   ],
   "source": [
    "from sklearn.model_selection import cross_val_score\n",
    "cross_val_score(model2, x, y, cv=kfold)"
   ]
  },
  {
   "cell_type": "code",
   "execution_count": 8,
   "metadata": {},
   "outputs": [
    {
     "data": {
      "text/plain": [
       "array([0.6462713 , 0.6703829 , 0.76663238])"
      ]
     },
     "execution_count": 8,
     "metadata": {},
     "output_type": "execute_result"
    }
   ],
   "source": [
    "cross_val_score(model2, x, y, cv=kfold, scoring='r2')"
   ]
  },
  {
   "cell_type": "code",
   "execution_count": 9,
   "metadata": {},
   "outputs": [
    {
     "data": {
      "text/plain": [
       "array([-3.50910046, -3.19713657, -3.20281164])"
      ]
     },
     "execution_count": 9,
     "metadata": {},
     "output_type": "execute_result"
    }
   ],
   "source": [
    "cross_val_score(model2, x, y, cv=kfold, scoring='neg_median_absolute_error')"
   ]
  },
  {
   "cell_type": "markdown",
   "metadata": {},
   "source": [
    "# cross_val_predict"
   ]
  },
  {
   "cell_type": "code",
   "execution_count": 10,
   "metadata": {},
   "outputs": [
    {
     "data": {
      "text/plain": [
       "array([ 5.53745847e+00,  1.30227895e+00,  2.51822652e+00,  3.85675961e-01,\n",
       "        1.77096341e+01,  9.87131859e+00,  3.29844687e+00, -4.06658606e-02,\n",
       "        4.11588558e-01,  1.72495062e+00, -1.33720468e-02,  1.52808186e+01,\n",
       "        1.51909753e+00,  2.88508723e+00,  3.68530241e-01,  2.30589647e+01,\n",
       "        4.60241434e+00,  5.02108214e+00, -1.77084920e-02,  1.09275669e+01,\n",
       "        9.76819808e+00,  8.38532357e+00,  4.92065378e+00,  4.26642891e+00,\n",
       "        5.34573555e-02,  1.19907448e+00,  9.33972379e+00,  1.07962932e+01,\n",
       "        2.64293462e+00,  1.62774680e+01,  1.25819628e+01,  3.48829816e-01,\n",
       "        1.34741541e+00, -1.33791747e-02,  4.45754224e+00,  6.69440984e+00,\n",
       "        1.41999308e+01,  3.50580214e+00,  2.64826136e+00,  3.34160749e+00,\n",
       "        3.26402442e+00,  5.00657415e+00,  1.36644111e+01,  9.15771007e-01,\n",
       "        4.02578674e+00,  6.20889249e-01,  5.00262519e-01,  7.72548924e+00,\n",
       "        1.35683712e+01,  4.71871090e-01,  5.43733099e+00,  1.59345805e+01,\n",
       "        4.34975922e-01,  5.90993311e+00,  5.86668206e-01,  2.22204459e+00,\n",
       "        1.50321903e+01,  4.35826578e+00,  1.38309282e+00,  4.15215372e-01,\n",
       "        2.29257578e+00,  9.15097843e+00,  2.68727474e+00,  2.37391191e+01,\n",
       "        1.09090399e+01,  9.57608534e+00,  7.86569179e+00,  1.15712846e+01,\n",
       "        4.67416411e-01,  1.50716040e+01,  1.61951772e+01,  7.13622273e-01,\n",
       "        9.02841489e-01,  2.55727275e+00,  2.63313831e-01,  2.26715043e+00,\n",
       "        8.48658190e+00,  2.37152786e-01,  1.14488546e+00,  5.86354281e+00,\n",
       "        2.38437922e-01,  7.59115121e-01,  2.22411654e+00,  6.70571426e+00,\n",
       "        6.56624232e-01,  2.37739965e-01,  3.46225457e+00,  1.87467092e+01,\n",
       "        9.66164138e+00,  1.96952829e+01,  2.04336485e+01,  6.96207382e+00,\n",
       "        2.16929435e+00,  1.27946720e+01,  2.49363692e-01,  1.00218067e+01,\n",
       "        1.46766247e+01,  3.58133249e+00,  1.03455647e+01,  1.68286080e+01])"
      ]
     },
     "execution_count": 10,
     "metadata": {},
     "output_type": "execute_result"
    }
   ],
   "source": [
    "from sklearn.model_selection import cross_val_predict\n",
    "cross_val_predict(model2, x, y, cv=kfold)"
   ]
  },
  {
   "cell_type": "code",
   "execution_count": null,
   "metadata": {},
   "outputs": [],
   "source": []
  }
 ],
 "metadata": {
  "kernelspec": {
   "display_name": "Python 2",
   "language": "python",
   "name": "python2"
  },
  "language_info": {
   "codemirror_mode": {
    "name": "ipython",
    "version": 2
   },
   "file_extension": ".py",
   "mimetype": "text/x-python",
   "name": "python",
   "nbconvert_exporter": "python",
   "pygments_lexer": "ipython2",
   "version": "2.7.14"
  }
 },
 "nbformat": 4,
 "nbformat_minor": 2
}
