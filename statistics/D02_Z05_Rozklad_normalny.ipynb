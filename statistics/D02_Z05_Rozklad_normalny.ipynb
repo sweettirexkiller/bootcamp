{
 "cells": [
  {
   "cell_type": "markdown",
   "metadata": {},
   "source": [
    "# Rozkład normalny\n",
    "Gęstość zmiennej losowej $X$ o rozkładzie normalnym z parametrami $\\mu$ i $\\sigma$ jest dana przez \n",
    "$$\n",
    "f(x) = \\frac{1}{\\sigma \\sqrt{2 \\pi} } e^{-\\frac{(x-m)^2}{2\\sigma^2} }.\n",
    "$$"
   ]
  },
  {
   "cell_type": "code",
   "execution_count": 2,
   "metadata": {},
   "outputs": [],
   "source": [
    "import numpy as np\n",
    "import matplotlib.pyplot as plt\n",
    "from scipy import stats\n",
    "import seaborn as sns"
   ]
  },
  {
   "cell_type": "markdown",
   "metadata": {},
   "source": [
    "# Zadanie\n",
    "Proszę:\n",
    "<ul>\n",
    "<li> zdefiniuj zmienną losową o rozkładzie  Normalnym $\\mu=0$, $\\sigma=1$ </li>\n",
    "<li> narysuj dla niej gęstość i dystrybuantę </li>\n",
    "<li> wylosuj próbkę i narysuj histogram (na jednym rysunku) </li>\n",
    "<li> narysuj kilka gęstości rozkładu Normalnego z różnymi parametrami </li>\n",
    "<li> wylosuj kilka próbek dla zmiennej losowej o rozkładzie normalnym  $\\mu=0$, $\\sigma=1$. (Czemu się od siebie różnią). </li> \n",
    "<li> policz skośność i kurtozę dla gęstości Poissona $\\mu=0$, $\\sigma=1$ </li>\n",
    "<ul>"
   ]
  },
  {
   "cell_type": "markdown",
   "metadata": {},
   "source": [
    "Definiujemy zmienną losową"
   ]
  },
  {
   "cell_type": "code",
   "execution_count": 5,
   "metadata": {},
   "outputs": [],
   "source": [
    "t = np.arange(-5,5,0.05)\n",
    "m=1\n",
    "s=1\n",
    "normalDist = stats.norm(m,s)"
   ]
  },
  {
   "cell_type": "markdown",
   "metadata": {},
   "source": [
    "Narysujmy gętość zmiennej losowej"
   ]
  },
  {
   "cell_type": "code",
   "execution_count": 14,
   "metadata": {},
   "outputs": [
    {
     "data": {
      "image/png": "[encoded data removed]",
      "text/plain": [
       "<Figure size 432x288 with 1 Axes>"
      ]
     },
     "metadata": {},
     "output_type": "display_data"
    }
   ],
   "source": [
    "fig, ax = plt.subplots(1,1)\n",
    "ax.set_xlim([-1,10])\n",
    "ax.set_ylim([0,1])\n",
    "\n",
    "ax.plot(t, normalDist.pdf(t), '--', ms=8)\n",
    "\n",
    "plt.show()"
   ]
  },
  {
   "cell_type": "markdown",
   "metadata": {},
   "source": [
    "Narysujmy dystrybuantę zmiennej losowej"
   ]
  },
  {
   "cell_type": "code",
   "execution_count": 20,
   "metadata": {},
   "outputs": [
    {
     "data": {
      "image/png": "[encoded data removed]",
      "text/plain": [
       "<Figure size 432x288 with 1 Axes>"
      ]
     },
     "metadata": {},
     "output_type": "display_data"
    }
   ],
   "source": [
    "fig, ax = plt.subplots(1, 1)\n",
    "ax.set_xlim([-1,2])\n",
    "ax.set_ylim([-0.2,1.2])\n",
    "\n",
    "ax.plot(t, normalDist.cdf(t), 'bo', ms=8)\n",
    "plt.show()\n"
   ]
  },
  {
   "cell_type": "markdown",
   "metadata": {},
   "source": [
    "Wylosujmy próbkę i narysujmy histogram na jednym obrazku"
   ]
  },
  {
   "cell_type": "code",
   "execution_count": 21,
   "metadata": {},
   "outputs": [
    {
     "data": {
      "image/png": "[encoded data removed]",
      "text/plain": [
       "<Figure size 432x288 with 1 Axes>"
      ]
     },
     "metadata": {},
     "output_type": "display_data"
    }
   ],
   "source": [
    "trials = normalDist.rvs(100) # random vector sample\n",
    "trials\n",
    "plt.hist(trials)\n",
    "plt.show()"
   ]
  },
  {
   "cell_type": "markdown",
   "metadata": {},
   "source": [
    "Narysujmy gęstości rozkładu jednostajnego z różnymi parametrami"
   ]
  },
  {
   "cell_type": "code",
   "execution_count": 30,
   "metadata": {},
   "outputs": [
    {
     "data": {
      "image/png": "[encoded data removed]",
      "text/plain": [
       "<Figure size 432x288 with 1 Axes>"
      ]
     },
     "metadata": {},
     "output_type": "display_data"
    }
   ],
   "source": [
    "normalDist1 = stats.norm(1,1)\n",
    "normalDist2 = stats.norm(2,2)\n",
    "    \n",
    "\n",
    "\n",
    "fig, ax = plt.subplots(1,1)\n",
    "ax.set_xlim([-10,10])\n",
    "ax.set_ylim([0,1])\n",
    "x = np.arange(0, 10)\n",
    "\n",
    "ax.plot(t, normalDist1.pdf(t), 'bo', ms=2, color='r',label='bernoulli pmf')\n",
    "ax.plot(t, normalDist2.pdf(t), 'bo', ms=3, color='b',label='bernoulli pmf')\n",
    "\n",
    "\n",
    "plt.show()"
   ]
  },
  {
   "cell_type": "markdown",
   "metadata": {},
   "source": [
    "Narysujmy kilka histogramów różnych próbek z roskładu normalnego o tych samych parametrach."
   ]
  },
  {
   "cell_type": "code",
   "execution_count": null,
   "metadata": {},
   "outputs": [],
   "source": []
  },
  {
   "cell_type": "markdown",
   "metadata": {
    "collapsed": true
   },
   "source": [
    "Czemu te próbki różnią się od siebie?"
   ]
  },
  {
   "cell_type": "code",
   "execution_count": null,
   "metadata": {
    "collapsed": true
   },
   "outputs": [],
   "source": []
  }
 ],
 "metadata": {
  "kernelspec": {
   "display_name": "Python 3",
   "language": "python",
   "name": "python3"
  },
  "language_info": {
   "codemirror_mode": {
    "name": "ipython",
    "version": 3
   },
   "file_extension": ".py",
   "mimetype": "text/x-python",
   "name": "python",
   "nbconvert_exporter": "python",
   "pygments_lexer": "ipython3",
   "version": "3.6.4"
  }
 },
 "nbformat": 4,
 "nbformat_minor": 2
}
