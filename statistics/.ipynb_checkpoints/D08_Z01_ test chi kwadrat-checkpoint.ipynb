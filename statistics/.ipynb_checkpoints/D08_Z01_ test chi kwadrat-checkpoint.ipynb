{
 "cells": [
  {
   "cell_type": "markdown",
   "metadata": {},
   "source": [
    "# One-Way Chi-Square Test"
   ]
  },
  {
   "cell_type": "markdown",
   "metadata": {},
   "source": [
    "# Zadanie\n",
    "Załóżmy, że wyjeżdżasz wędkować z kolegami. Każdego wieczoru losujecie kto ma sprzątać. Ale po zakończeniu podróży wydaje Ci się, że zrobiłeś większość pracy:\n",
    "- Ty - $10$\n",
    "- Piotr - $6$\n",
    "- Marek - $5$\n",
    "- Michał - $4$\n",
    "- Paweł - $5$\n",
    "- Rafał - $3$"
   ]
  },
  {
   "cell_type": "markdown",
   "metadata": {},
   "source": [
    "## Wykonujemy test chi kwadrat"
   ]
  },
  {
   "cell_type": "code",
   "execution_count": 1,
   "metadata": {},
   "outputs": [
    {
     "name": "stdout",
     "output_type": "stream",
     "text": [
      "0.37313038594870584\n",
      "5.363636363636364\n"
     ]
    }
   ],
   "source": [
    "import numpy as np\n",
    "import pandas as pd\n",
    "from scipy import stats\n",
    "data=np.array([10,6,5,4,5,3])\n",
    "V, p = stats.chisquare(data)\n",
    "print(p)\n",
    "print(V)"
   ]
  },
  {
   "cell_type": "code",
   "execution_count": null,
   "metadata": {},
   "outputs": [],
   "source": []
  },
  {
   "cell_type": "markdown",
   "metadata": {},
   "source": [
    "## Możemy też podać oczekiwany rozkład\n",
    "Ponieważ, chcemy sprawdzić czy rozkład losowy był jednostajny, to:\n",
    "$$\n",
    "expectedFrequency=\\frac{n_{total}}{n_{people}}\n",
    "$$"
   ]
  },
  {
   "cell_type": "code",
   "execution_count": 15,
   "metadata": {},
   "outputs": [
    {
     "name": "stdout",
     "output_type": "stream",
     "text": [
      "5.5\n"
     ]
    }
   ],
   "source": [
    "expected=sum(data)/data.size\n",
    "print(expected)"
   ]
  },
  {
   "cell_type": "code",
   "execution_count": 16,
   "metadata": {},
   "outputs": [
    {
     "name": "stdout",
     "output_type": "stream",
     "text": [
      "0.373130385949\n",
      "5.36363636364\n"
     ]
    }
   ],
   "source": [
    "V, p = stats.chisquare(f_obs= data,f_exp= expected) \n",
    "print(p)\n",
    "print(V)"
   ]
  },
  {
   "cell_type": "markdown",
   "metadata": {},
   "source": [
    "## Możemy też sami napisać cały test \n",
    "\n",
    "Najpierw definiujemy statystykę:\n",
    "\n",
    "$$\n",
    "V = \\sum_{i} \\frac{(o_i - e_i)^2}{e_i}  \\thicksim \\chi_{f-1}^2\n",
    "$$\n",
    "\n",
    "Ma ona rozkład chi kwadrat z $f-1$ stopniami swobody (gdzie $f$ to liczba klas)."
   ]
  },
  {
   "cell_type": "code",
   "execution_count": 21,
   "metadata": {},
   "outputs": [
    {
     "name": "stdout",
     "output_type": "stream",
     "text": [
      "5.36363636364\n"
     ]
    }
   ],
   "source": [
    "chi_squared_stat = (((data-expected)**2)/expected).sum()\n",
    "print(chi_squared_stat)"
   ]
  },
  {
   "cell_type": "markdown",
   "metadata": {},
   "source": [
    "Liczymy p-value"
   ]
  },
  {
   "cell_type": "code",
   "execution_count": 25,
   "metadata": {},
   "outputs": [
    {
     "name": "stdout",
     "output_type": "stream",
     "text": [
      "P value\n",
      "0.373130385949\n"
     ]
    }
   ],
   "source": [
    "p_value = 1 - stats.chi2.cdf(x=chi_squared_stat,df= data.size-1)\n",
    "print(\"P value\")\n",
    "print(p_value)"
   ]
  },
  {
   "cell_type": "code",
   "execution_count": null,
   "metadata": {
    "collapsed": true
   },
   "outputs": [],
   "source": []
  }
 ],
 "metadata": {
  "kernelspec": {
   "display_name": "Python 2",
   "language": "python",
   "name": "python2"
  },
  "language_info": {
   "codemirror_mode": {
    "name": "ipython",
    "version": 2
   },
   "file_extension": ".py",
   "mimetype": "text/x-python",
   "name": "python",
   "nbconvert_exporter": "python",
   "pygments_lexer": "ipython2",
   "version": "2.7.14"
  }
 },
 "nbformat": 4,
 "nbformat_minor": 2
}
