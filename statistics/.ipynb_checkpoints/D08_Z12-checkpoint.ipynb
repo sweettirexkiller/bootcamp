{
 "cells": [
  {
   "cell_type": "markdown",
   "metadata": {},
   "source": [
    "# Zadanie\n",
    "\n",
    "W klinice $15$ pacjentów (leniwych) waży: \n",
    "\n",
    "[76, 101, 66, 72, 88, 82, 79, 73, 76, 85, 75, 64, 76, 81, 86.] kg \n",
    "\n",
    "i \n",
    "15 pacjentów (sportowców) waży:\n",
    "\n",
    "[64, 65, 56, 62, 59, 76, 66, 82, 91, 57, 92, 80, 82, 67, 54] kg.\n",
    "\n",
    "\n",
    "- Czy leniwi pacjenci są znacznie ciężsi?\n",
    "- Czy powyższe dane pochodzą z rozkładów normalnych? \n"
   ]
  },
  {
   "cell_type": "code",
   "execution_count": 3,
   "metadata": {},
   "outputs": [],
   "source": [
    "import numpy as np\n",
    "import pandas as pd\n",
    "from scipy import stats\n",
    "\n",
    "\n",
    "data1 = np.array([76, 101, 66, 72, 88, 82, 79, 73, 76, 85, 75, 64, 76, 81, 86.])\n",
    "data2 = np.array([64, 65, 56, 62, 59, 76, 66, 82, 91, 57, 92, 80, 82, 67, 54])"
   ]
  },
  {
   "cell_type": "code",
   "execution_count": 9,
   "metadata": {},
   "outputs": [
    {
     "name": "stdout",
     "output_type": "stream",
     "text": [
      "Not Normal distribution\n"
     ]
    }
   ],
   "source": [
    " _, p = stats.kstest(data1, 'norm')\n",
    "if p > 0.05:\n",
    "    print('Normal distribution')\n",
    "else:\n",
    "    print('Not Normal distribution')"
   ]
  },
  {
   "cell_type": "code",
   "execution_count": 11,
   "metadata": {},
   "outputs": [
    {
     "name": "stdout",
     "output_type": "stream",
     "text": [
      "Not Normal distribution\n"
     ]
    }
   ],
   "source": [
    " _, p = stats.kstest(data2, 'norm')\n",
    "if p > 0.05:\n",
    "    print('Normal distribution')\n",
    "else:\n",
    "    print('Not Normal distribution')"
   ]
  },
  {
   "cell_type": "code",
   "execution_count": null,
   "metadata": {},
   "outputs": [],
   "source": []
  }
 ],
 "metadata": {
  "kernelspec": {
   "display_name": "Python 3",
   "language": "python",
   "name": "python3"
  },
  "language_info": {
   "codemirror_mode": {
    "name": "ipython",
    "version": 3
   },
   "file_extension": ".py",
   "mimetype": "text/x-python",
   "name": "python",
   "nbconvert_exporter": "python",
   "pygments_lexer": "ipython3",
   "version": "3.6.4"
  }
 },
 "nbformat": 4,
 "nbformat_minor": 2
}
