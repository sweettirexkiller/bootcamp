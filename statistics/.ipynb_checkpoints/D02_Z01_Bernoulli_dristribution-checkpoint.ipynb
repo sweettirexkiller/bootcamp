{
 "cells": [
  {
   "cell_type": "markdown",
   "metadata": {},
   "source": [
    "# Próba Bernoulliego (rozkład zero-jedynkowy)\n",
    "Próba Bernoulliego (rozkład zero-jedynkowy) --  dyskretny rozkład prawdopodobieństwa, dla którego zmienna losowa przyjmuje tylko wartości: $0$ lub $1$:\n",
    "\n",
    "$$\n",
    "P(X=k) = \n",
    "\\left\\{ \\begin{array}{ll}\n",
    "p & \\textrm{gdy} k = 0\\\\\n",
    "1-p & \\textrm{gdy} k \\neq 1\n",
    "\\end{array} \\right. ,\n",
    "$$\n",
    "gdzie $0 < p < 1$, in \\{0, 1\\}.\n",
    "\n",
    "\n",
    "Powyższą funkcję opisującą prawdopodobieństwo wystąpienia każdego z elementów nazywamy funkcją gęstości (**probability mass function (PMF)**).\n",
    "\n",
    "https://docs.scipy.org/doc/scipy-0.14.0/reference/generated/scipy.stats.bernoulli.html"
   ]
  },
  {
   "cell_type": "code",
   "execution_count": 11,
   "metadata": {},
   "outputs": [],
   "source": [
    "from scipy import stats\n",
    "import matplotlib.pyplot as plt\n",
    "import numpy as np"
   ]
  },
  {
   "cell_type": "markdown",
   "metadata": {},
   "source": [
    "Definiujemy zmienną losową"
   ]
  },
  {
   "cell_type": "code",
   "execution_count": 12,
   "metadata": {},
   "outputs": [],
   "source": [
    "p = 0.5\n",
    "bernoulliDist = stats.bernoulli(p)\n",
    "#dir(bernoulliDist)"
   ]
  },
  {
   "cell_type": "markdown",
   "metadata": {},
   "source": [
    "Możemy wypisać parametry"
   ]
  },
  {
   "cell_type": "code",
   "execution_count": 13,
   "metadata": {},
   "outputs": [
    {
     "name": "stdout",
     "output_type": "stream",
     "text": [
      "0.5\n",
      "0.5\n"
     ]
    }
   ],
   "source": [
    "p_tails = bernoulliDist.pmf(0) #probabilty mass function\n",
    "p_heads = bernoulliDist.pmf(1)\n",
    "print(p_tails)\n",
    "print(p_heads)"
   ]
  },
  {
   "cell_type": "markdown",
   "metadata": {},
   "source": [
    "Możemy wylosować próbkę i narysować histogram"
   ]
  },
  {
   "cell_type": "code",
   "execution_count": 14,
   "metadata": {},
   "outputs": [
    {
     "data": {
      "image/png": "[encoded data removed]",
      "text/plain": [
       "<Figure size 432x288 with 1 Axes>"
      ]
     },
     "metadata": {},
     "output_type": "display_data"
    }
   ],
   "source": [
    "    trials = bernoulliDist.rvs(100) # random vector sample\n",
    "    trials\n",
    "    plt.hist(trials)\n",
    "    plt.show()"
   ]
  },
  {
   "cell_type": "markdown",
   "metadata": {},
   "source": [
    "Możemy policzyć momenty"
   ]
  },
  {
   "cell_type": "code",
   "execution_count": 15,
   "metadata": {},
   "outputs": [
    {
     "name": "stdout",
     "output_type": "stream",
     "text": [
      "0.5\n",
      "0.25\n",
      "0.0\n",
      "-2.0\n"
     ]
    }
   ],
   "source": [
    "p = 0.5\n",
    "mean, var, skew, kurt = stats.bernoulli.stats(p, moments='mvsk')\n",
    "print(mean)\n",
    "print(var)\n",
    "print(skew)\n",
    "print(kurt)\n"
   ]
  },
  {
   "cell_type": "markdown",
   "metadata": {},
   "source": [
    "Narysujmy gęstość zmiennej losowej"
   ]
  },
  {
   "cell_type": "code",
   "execution_count": 25,
   "metadata": {},
   "outputs": [
    {
     "data": {
      "image/png": "[encoded data removed]",
      "text/plain": [
       "<Figure size 432x288 with 1 Axes>"
      ]
     },
     "metadata": {},
     "output_type": "display_data"
    }
   ],
   "source": [
    "p = 0.7\n",
    "fig, ax = plt.subplots(1, 1)\n",
    "# Display the probability mass function (``pmf``):\n",
    "ax.set_xlim([-1,2])\n",
    "ax.set_ylim([0,1])\n",
    "x = np.arange(0, 2)\n",
    "ax.plot(x, stats.bernoulli.pmf(x, p), 'bo', ms=8, label='bernoulli pmf')\n",
    "ax.vlines(x, 0, stats.bernoulli.pmf(x, p), colors='b', lw=5, alpha=0.5)\n",
    "plt.show()\n"
   ]
  },
  {
   "cell_type": "markdown",
   "metadata": {},
   "source": [
    "Narysujmy dystrybuantę zmiennej losowej"
   ]
  },
  {
   "cell_type": "code",
   "execution_count": 26,
   "metadata": {},
   "outputs": [
    {
     "data": {
      "image/png": "[encoded data removed]",
      "text/plain": [
       "<Figure size 432x288 with 1 Axes>"
      ]
     },
     "metadata": {},
     "output_type": "display_data"
    }
   ],
   "source": [
    "p = 0.7\n",
    "fig, ax = plt.subplots(1, 1)\n",
    "# Display the probability mass function (``pmf``):\n",
    "ax.set_xlim([-1,2])\n",
    "ax.set_ylim([-0.2,1.2])\n",
    "# pmf cdf\n",
    "x = np.arange(-5, 5,0.01)\n",
    "ax.plot(x, stats.bernoulli.cdf(x, p), 'bo--', ms=8, label='bernoulli cdf') #\n",
    "rv = stats.bernoulli(p)\n",
    "plt.show()\n"
   ]
  }
 ],
 "metadata": {
  "kernelspec": {
   "display_name": "Python 3",
   "language": "python",
   "name": "python3"
  },
  "language_info": {
   "codemirror_mode": {
    "name": "ipython",
    "version": 3
   },
   "file_extension": ".py",
   "mimetype": "text/x-python",
   "name": "python",
   "nbconvert_exporter": "python",
   "pygments_lexer": "ipython3",
   "version": "3.6.4"
  }
 },
 "nbformat": 4,
 "nbformat_minor": 2
}
