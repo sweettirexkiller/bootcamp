{
 "cells": [
  {
   "cell_type": "markdown",
   "metadata": {
    "collapsed": true
   },
   "source": [
    "# Zadanie 1\n",
    "Pobieraj dane z pliku https://github.com/przem85/statistics/blob/master/D8/ANOVA4.txt\n",
    "Zawiera on dane z eksperymentu na roślinach, które były hodowane w trzech  różnych warunki wzrostu. \n",
    "\n",
    "- Wykonaj ANOVA\n",
    "- Czy trzy grupy są różne?\n",
    "- Wykonaj analizę post hoc, który z par jest inny? \n",
    "- Czy porównanie nieparametryczne (Kruskal-Wallis test) prowadzi do innego wyniku? "
   ]
  },
  {
   "cell_type": "code",
   "execution_count": 21,
   "metadata": {},
   "outputs": [],
   "source": [
    "import numpy as np\n",
    "import matplotlib.pyplot as plt\n",
    "from scipy import stats\n",
    "import pandas as pd\n",
    "from statsmodels.formula.api import ols\n",
    "from statsmodels.stats.anova import anova_lm\n",
    "from statsmodels.stats.multicomp import (pairwise_tukeyhsd, MultiComparison)\n",
    "from statsmodels.stats.libqsturng import psturng\n",
    "from scipy.stats.mstats import kruskalwallis"
   ]
  },
  {
   "cell_type": "code",
   "execution_count": 2,
   "metadata": {},
   "outputs": [
    {
     "data": {
      "text/html": [
       "<div>\n",
       "<style scoped>\n",
       "    .dataframe tbody tr th:only-of-type {\n",
       "        vertical-align: middle;\n",
       "    }\n",
       "\n",
       "    .dataframe tbody tr th {\n",
       "        vertical-align: top;\n",
       "    }\n",
       "\n",
       "    .dataframe thead th {\n",
       "        text-align: right;\n",
       "    }\n",
       "</style>\n",
       "<table border=\"1\" class=\"dataframe\">\n",
       "  <thead>\n",
       "    <tr style=\"text-align: right;\">\n",
       "      <th></th>\n",
       "      <th>group</th>\n",
       "      <th>weight</th>\n",
       "    </tr>\n",
       "  </thead>\n",
       "  <tbody>\n",
       "    <tr>\n",
       "      <th>0</th>\n",
       "      <td>Control</td>\n",
       "      <td>4.17</td>\n",
       "    </tr>\n",
       "    <tr>\n",
       "      <th>1</th>\n",
       "      <td>Control</td>\n",
       "      <td>5.58</td>\n",
       "    </tr>\n",
       "    <tr>\n",
       "      <th>2</th>\n",
       "      <td>Control</td>\n",
       "      <td>5.18</td>\n",
       "    </tr>\n",
       "    <tr>\n",
       "      <th>3</th>\n",
       "      <td>Control</td>\n",
       "      <td>6.11</td>\n",
       "    </tr>\n",
       "    <tr>\n",
       "      <th>4</th>\n",
       "      <td>Control</td>\n",
       "      <td>4.50</td>\n",
       "    </tr>\n",
       "    <tr>\n",
       "      <th>5</th>\n",
       "      <td>Control</td>\n",
       "      <td>4.61</td>\n",
       "    </tr>\n",
       "    <tr>\n",
       "      <th>6</th>\n",
       "      <td>Control</td>\n",
       "      <td>5.17</td>\n",
       "    </tr>\n",
       "    <tr>\n",
       "      <th>7</th>\n",
       "      <td>Control</td>\n",
       "      <td>4.53</td>\n",
       "    </tr>\n",
       "    <tr>\n",
       "      <th>8</th>\n",
       "      <td>Control</td>\n",
       "      <td>5.33</td>\n",
       "    </tr>\n",
       "    <tr>\n",
       "      <th>9</th>\n",
       "      <td>Control</td>\n",
       "      <td>5.14</td>\n",
       "    </tr>\n",
       "    <tr>\n",
       "      <th>10</th>\n",
       "      <td>TreatmentA</td>\n",
       "      <td>4.81</td>\n",
       "    </tr>\n",
       "    <tr>\n",
       "      <th>11</th>\n",
       "      <td>TreatmentA</td>\n",
       "      <td>4.17</td>\n",
       "    </tr>\n",
       "    <tr>\n",
       "      <th>12</th>\n",
       "      <td>TreatmentA</td>\n",
       "      <td>4.41</td>\n",
       "    </tr>\n",
       "    <tr>\n",
       "      <th>13</th>\n",
       "      <td>TreatmentA</td>\n",
       "      <td>3.59</td>\n",
       "    </tr>\n",
       "    <tr>\n",
       "      <th>14</th>\n",
       "      <td>TreatmentA</td>\n",
       "      <td>5.87</td>\n",
       "    </tr>\n",
       "    <tr>\n",
       "      <th>15</th>\n",
       "      <td>TreatmentA</td>\n",
       "      <td>3.83</td>\n",
       "    </tr>\n",
       "    <tr>\n",
       "      <th>16</th>\n",
       "      <td>TreatmentA</td>\n",
       "      <td>6.03</td>\n",
       "    </tr>\n",
       "    <tr>\n",
       "      <th>17</th>\n",
       "      <td>TreatmentA</td>\n",
       "      <td>4.89</td>\n",
       "    </tr>\n",
       "    <tr>\n",
       "      <th>18</th>\n",
       "      <td>TreatmentA</td>\n",
       "      <td>4.30</td>\n",
       "    </tr>\n",
       "    <tr>\n",
       "      <th>19</th>\n",
       "      <td>TreatmentA</td>\n",
       "      <td>4.69</td>\n",
       "    </tr>\n",
       "    <tr>\n",
       "      <th>20</th>\n",
       "      <td>TreatmentB</td>\n",
       "      <td>6.31</td>\n",
       "    </tr>\n",
       "    <tr>\n",
       "      <th>21</th>\n",
       "      <td>TreatmentB</td>\n",
       "      <td>5.10</td>\n",
       "    </tr>\n",
       "    <tr>\n",
       "      <th>22</th>\n",
       "      <td>TreatmentB</td>\n",
       "      <td>5.54</td>\n",
       "    </tr>\n",
       "    <tr>\n",
       "      <th>23</th>\n",
       "      <td>TreatmentB</td>\n",
       "      <td>5.50</td>\n",
       "    </tr>\n",
       "    <tr>\n",
       "      <th>24</th>\n",
       "      <td>TreatmentB</td>\n",
       "      <td>5.37</td>\n",
       "    </tr>\n",
       "    <tr>\n",
       "      <th>25</th>\n",
       "      <td>TreatmentB</td>\n",
       "      <td>5.90</td>\n",
       "    </tr>\n",
       "    <tr>\n",
       "      <th>26</th>\n",
       "      <td>TreatmentB</td>\n",
       "      <td>4.90</td>\n",
       "    </tr>\n",
       "    <tr>\n",
       "      <th>27</th>\n",
       "      <td>TreatmentB</td>\n",
       "      <td>6.15</td>\n",
       "    </tr>\n",
       "    <tr>\n",
       "      <th>28</th>\n",
       "      <td>TreatmentB</td>\n",
       "      <td>5.80</td>\n",
       "    </tr>\n",
       "    <tr>\n",
       "      <th>29</th>\n",
       "      <td>TreatmentB</td>\n",
       "      <td>5.60</td>\n",
       "    </tr>\n",
       "  </tbody>\n",
       "</table>\n",
       "</div>"
      ],
      "text/plain": [
       "         group  weight\n",
       "0      Control    4.17\n",
       "1      Control    5.58\n",
       "2      Control    5.18\n",
       "3      Control    6.11\n",
       "4      Control    4.50\n",
       "5      Control    4.61\n",
       "6      Control    5.17\n",
       "7      Control    4.53\n",
       "8      Control    5.33\n",
       "9      Control    5.14\n",
       "10  TreatmentA    4.81\n",
       "11  TreatmentA    4.17\n",
       "12  TreatmentA    4.41\n",
       "13  TreatmentA    3.59\n",
       "14  TreatmentA    5.87\n",
       "15  TreatmentA    3.83\n",
       "16  TreatmentA    6.03\n",
       "17  TreatmentA    4.89\n",
       "18  TreatmentA    4.30\n",
       "19  TreatmentA    4.69\n",
       "20  TreatmentB    6.31\n",
       "21  TreatmentB    5.10\n",
       "22  TreatmentB    5.54\n",
       "23  TreatmentB    5.50\n",
       "24  TreatmentB    5.37\n",
       "25  TreatmentB    5.90\n",
       "26  TreatmentB    4.90\n",
       "27  TreatmentB    6.15\n",
       "28  TreatmentB    5.80\n",
       "29  TreatmentB    5.60"
      ]
     },
     "execution_count": 2,
     "metadata": {},
     "output_type": "execute_result"
    }
   ],
   "source": [
    "data = pd.read_csv('ANOVA4.txt',sep=\" \",header=None, names=['group','weight'])\n",
    "data"
   ]
  },
  {
   "cell_type": "code",
   "execution_count": 19,
   "metadata": {},
   "outputs": [],
   "source": [
    "d1 = data[data['group'] == 'Control'].weight\n",
    "d2 = data[data['group'] == 'TreatmentA'].weight\n",
    "d3 = data[data['group'] == 'TreatmentB'].weight"
   ]
  },
  {
   "cell_type": "code",
   "execution_count": 4,
   "metadata": {},
   "outputs": [
    {
     "name": "stdout",
     "output_type": "stream",
     "text": [
      "LEVENA ANOVA\n",
      "=============\n",
      "('P value:', 0.32927821561008164)\n"
     ]
    }
   ],
   "source": [
    "# Levena\n",
    "(f, p) = stats.levene(d1,d2,d3)\n",
    "print ('LEVENA ANOVA')\n",
    "print ('=============')\n",
    "print ('P value:', p)"
   ]
  },
  {
   "cell_type": "code",
   "execution_count": 5,
   "metadata": {},
   "outputs": [
    {
     "name": "stdout",
     "output_type": "stream",
     "text": [
      "One-way ANOVA\n",
      "=============\n",
      "('P value:', 0.00695554199802733)\n"
     ]
    }
   ],
   "source": [
    "f, p = stats.f_oneway(d1,d2,d3)\n",
    "print ('One-way ANOVA')\n",
    "print ('=============')\n",
    "print ('P value:', p)"
   ]
  },
  {
   "cell_type": "code",
   "execution_count": 10,
   "metadata": {},
   "outputs": [],
   "source": [
    "multiComp = MultiComparison(data['weight'], data['group'])"
   ]
  },
  {
   "cell_type": "code",
   "execution_count": 14,
   "metadata": {},
   "outputs": [
    {
     "name": "stdout",
     "output_type": "stream",
     "text": [
      " Multiple Comparison of Means - Tukey HSD,FWER=0.05 \n",
      "====================================================\n",
      "  group1     group2   meandiff  lower  upper  reject\n",
      "----------------------------------------------------\n",
      " Control   TreatmentA  -0.373  -1.0638 0.3178 False \n",
      " Control   TreatmentB  0.585   -0.1058 1.2758 False \n",
      "TreatmentA TreatmentB  0.958    0.2672 1.6488  True \n",
      "----------------------------------------------------\n"
     ]
    },
    {
     "data": {
      "image/png": "[encoded data removed]",
      "text/plain": [
       "<Figure size 432x288 with 1 Axes>"
      ]
     },
     "metadata": {},
     "output_type": "display_data"
    }
   ],
   "source": [
    "# Get the data\n",
    "xvals = np.arange(3)\n",
    "res2 = pairwise_tukeyhsd(data['weight'], data['group'])\n",
    "print(res2)\n",
    "errors = np.ravel(np.diff(res2.confint)/2)\n",
    "\n",
    "# Plot them\n",
    "plt.plot(xvals, res2.meandiffs, 'o')\n",
    "plt.errorbar(xvals, res2.meandiffs, yerr=errors, fmt='o')\n",
    "\n",
    "# Put on labels\n",
    "pair_labels = multiComp.groupsunique[np.column_stack(res2._multicomp.pairindices)]\n",
    "plt.xticks(xvals, pair_labels)\n",
    "\n",
    "# Format the plot\n",
    "xlim = -0.5, 2.5\n",
    "plt.hlines(0, *xlim)\n",
    "plt.xlim(*xlim)\n",
    "plt.title('Multiple Comparison of Means - Tukey HSD, FWER=0.05' + '\\n Pairwise Mean Differences')          \n",
    "plt.show()"
   ]
  },
  {
   "cell_type": "code",
   "execution_count": 25,
   "metadata": {},
   "outputs": [],
   "source": [
    "# h, p = kruskalwallis(d1,d2,d3)\n",
    "\n",
    "# # Print the results\n",
    "# if p<0.05:\n",
    "#     print('There is a significant difference between the cities.')\n",
    "# else:\n",
    "#     print('No significant difference between the cities.')"
   ]
  }
 ],
 "metadata": {
  "kernelspec": {
   "display_name": "Python 2",
   "language": "python",
   "name": "python2"
  },
  "language_info": {
   "codemirror_mode": {
    "name": "ipython",
    "version": 2
   },
   "file_extension": ".py",
   "mimetype": "text/x-python",
   "name": "python",
   "nbconvert_exporter": "python",
   "pygments_lexer": "ipython2",
   "version": "2.7.14"
  }
 },
 "nbformat": 4,
 "nbformat_minor": 2
}
