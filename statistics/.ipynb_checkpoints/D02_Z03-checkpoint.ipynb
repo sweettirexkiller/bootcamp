{
 "cells": [
  {
   "cell_type": "markdown",
   "metadata": {
    "collapsed": true
   },
   "source": [
    "# Rozkład Poissona\n",
    "Rozkład prawdopodobieństwa zmiennej losowej $X$ o rozkładzie Poissona z parametrem $\\lambda > 0$ wyraża się wzorem:\n",
    "$$\n",
    "P(X = k) = e^{-\\lambda} \\cdot \\frac{\\lambda^{k}}{k!}.\n",
    "$$\n"
   ]
  },
  {
   "cell_type": "code",
   "execution_count": 2,
   "metadata": {},
   "outputs": [],
   "source": [
    "from scipy import stats\n",
    "import matplotlib.pyplot as plt\n",
    "import numpy as np"
   ]
  },
  {
   "cell_type": "markdown",
   "metadata": {},
   "source": [
    "# Zadanie \n",
    "Proszę:\n",
    "<ul>\n",
    "<li> zdefiniuj zmienną losową o rozkładzie  Poissona $\\lambda=2$ </li>,\n",
    "<li> narysuj dla niej gęstość i dystrybuantę </li>,\n",
    "<li> wylosuj próbkę i narysuj histogram </li>,\n",
    "<li> narysuj kilka gęstości rozkładu Poissona $\\lambda=1,4,10$ </li>,\n",
    "<li> policz skośność i kurtozę dla gęstości Poissona $\\lambda=1,4,10$</li> \n",
    "<\\ul>"
   ]
  },
  {
   "cell_type": "markdown",
   "metadata": {},
   "source": [
    "Zdefiniuj zmienną losową o rozkładzie Poissona  $\\lambda=2$"
   ]
  },
  {
   "cell_type": "code",
   "execution_count": 18,
   "metadata": {},
   "outputs": [],
   "source": [
    "labda1 = 2\n",
    "posissonDist = stats.poisson(labda1)"
   ]
  },
  {
   "cell_type": "markdown",
   "metadata": {},
   "source": [
    "Narysuj gęstość zmiennej losowej o rozkładzie Poissona"
   ]
  },
  {
   "cell_type": "code",
   "execution_count": 25,
   "metadata": {},
   "outputs": [
    {
     "data": {
      "image/png": "[encoded data removed]",
      "text/plain": [
       "<Figure size 432x288 with 1 Axes>"
      ]
     },
     "metadata": {},
     "output_type": "display_data"
    }
   ],
   "source": [
    "fig, ax = plt.subplots(1,1)\n",
    "ax.set_xlim([-1,10])\n",
    "ax.set_ylim([0,1])\n",
    "x = np.arange(0, 10)\n",
    "\n",
    "ax.plot(x, stats.poisson.pmf(x, labda1), 'bo', ms=8, label='bernoulli pmf')\n",
    "\n",
    "plt.show()\n"
   ]
  },
  {
   "cell_type": "markdown",
   "metadata": {},
   "source": [
    "Wylosuj próbkę i narysuj histogram"
   ]
  },
  {
   "cell_type": "code",
   "execution_count": 26,
   "metadata": {},
   "outputs": [
    {
     "data": {
      "image/png": "[encoded data removed]",
      "text/plain": [
       "<Figure size 432x288 with 1 Axes>"
      ]
     },
     "metadata": {},
     "output_type": "display_data"
    }
   ],
   "source": [
    "trials = posissonDist.rvs(100)\n",
    "trials\n",
    "plt.hist(trials)\n",
    "plt.show()"
   ]
  },
  {
   "cell_type": "markdown",
   "metadata": {},
   "source": [
    "Narysuj dystrybuantę zmiennej losowej o rozkładzie Poissona"
   ]
  },
  {
   "cell_type": "code",
   "execution_count": 27,
   "metadata": {},
   "outputs": [
    {
     "data": {
      "image/png": "[encoded data removed]",
      "text/plain": [
       "<Figure size 432x288 with 1 Axes>"
      ]
     },
     "metadata": {},
     "output_type": "display_data"
    }
   ],
   "source": [
    "fig, ax = plt.subplots(1, 1)\n",
    "ax.set_xlim([-1,2])\n",
    "ax.set_ylim([-0.2,1.2])\n",
    "\n",
    "x = np.arange(-5, 5,0.01)\n",
    "ax.plot(x, stats.poisson.cdf(x, labda1), 'bo--', ms=8, label='bernoulli cdf') #\n",
    "rv = stats.poisson(labda1)\n",
    "plt.show()\n"
   ]
  },
  {
   "cell_type": "markdown",
   "metadata": {},
   "source": [
    "Policz momenty"
   ]
  },
  {
   "cell_type": "code",
   "execution_count": 28,
   "metadata": {},
   "outputs": [
    {
     "name": "stdout",
     "output_type": "stream",
     "text": [
      "2.0\n",
      "2.0\n",
      "0.7071067811865476\n",
      "0.5\n"
     ]
    }
   ],
   "source": [
    "mean, var, skew, kurt = stats.poisson.stats(labda1, moments='mvsk')\n",
    "print(mean)\n",
    "print(var)\n",
    "print(skew)\n",
    "print(kurt)\n"
   ]
  },
  {
   "cell_type": "markdown",
   "metadata": {},
   "source": [
    "Narysuj gętość zmiennej losowej dla różnych parametrów"
   ]
  },
  {
   "cell_type": "code",
   "execution_count": 30,
   "metadata": {},
   "outputs": [
    {
     "data": {
      "image/png": "[encoded data removed]",
      "text/plain": [
       "<Figure size 432x288 with 1 Axes>"
      ]
     },
     "metadata": {},
     "output_type": "display_data"
    }
   ],
   "source": [
    "lambdaX = 2\n",
    "lambdaY = 4\n",
    "\n",
    "posissonDistX = stats.poisson(lambdaX)\n",
    "posissonDistY = stats.poisson(lambdaY)\n",
    "\n",
    "\n",
    "fig, ax = plt.subplots(1,1)\n",
    "ax.set_xlim([-1,10])\n",
    "ax.set_ylim([0,1])\n",
    "x = np.arange(0, 10)\n",
    "\n",
    "ax.plot(x, stats.poisson.pmf(x, lambdaX), 'bo', ms=8, color='r',label='bernoulli pmf')\n",
    "ax.plot(x, stats.poisson.pmf(x, lambdaY), 'bo', ms=8, color='b',label='bernoulli pmf')\n",
    "\n",
    "\n",
    "plt.show()"
   ]
  }
 ],
 "metadata": {
  "kernelspec": {
   "display_name": "Python 3",
   "language": "python",
   "name": "python3"
  },
  "language_info": {
   "codemirror_mode": {
    "name": "ipython",
    "version": 3
   },
   "file_extension": ".py",
   "mimetype": "text/x-python",
   "name": "python",
   "nbconvert_exporter": "python",
   "pygments_lexer": "ipython3",
   "version": "3.6.4"
  }
 },
 "nbformat": 4,
 "nbformat_minor": 2
}
