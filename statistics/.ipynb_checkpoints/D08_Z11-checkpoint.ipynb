{
 "cells": [
  {
   "cell_type": "markdown",
   "metadata": {},
   "source": [
    "# Zadanie\n",
    "\n",
    "Dzienne spalanie energii przez 11 zdrowych kobiet wynosi: \n",
    "\n",
    "[5260., 5470., 5640., 6180., 6390., 6515., 6805., 7515., 7515., 8230., 8770.] kJ.\n",
    "\n",
    "Czy ta wartość znacznie różni się od zalecanej wartości 7725?\n",
    "\n",
    "Wykorzystaj dwa testy."
   ]
  },
  {
   "cell_type": "code",
   "execution_count": 2,
   "metadata": {},
   "outputs": [
    {
     "name": "stdout",
     "output_type": "stream",
     "text": [
      "0.018137235176105812\n",
      "Odrzucamy hipotezę H_0\n"
     ]
    }
   ],
   "source": [
    "import numpy as np\n",
    "import pandas as pd\n",
    "from scipy import stats\n",
    "# Enter the data\n",
    "data = np.array([5260., 5470., 5640., 6180., 6390., 6515., 6805., 7515., 7515., 8230., 8770.] )\n",
    "\n",
    "\n",
    "tval = (7725-np.mean(data))/stats.sem(data)\n",
    "td = stats.t(len(data)-1) # \"frozen\" t-distribution\n",
    "p = 2*td.sf(tval)\n",
    "print(p)\n",
    "if p < 0.05:\n",
    "    print(\"Odrzucamy hipotezę H_0\")\n",
    "else:\n",
    "    print(\"Nie ma podstaw aby odrzucić hipotezę H_0\")"
   ]
  },
  {
   "cell_type": "code",
   "execution_count": null,
   "metadata": {},
   "outputs": [],
   "source": []
  }
 ],
 "metadata": {
  "kernelspec": {
   "display_name": "Python 3",
   "language": "python",
   "name": "python3"
  },
  "language_info": {
   "codemirror_mode": {
    "name": "ipython",
    "version": 3
   },
   "file_extension": ".py",
   "mimetype": "text/x-python",
   "name": "python",
   "nbconvert_exporter": "python",
   "pygments_lexer": "ipython3",
   "version": "3.6.4"
  }
 },
 "nbformat": 4,
 "nbformat_minor": 2
}
