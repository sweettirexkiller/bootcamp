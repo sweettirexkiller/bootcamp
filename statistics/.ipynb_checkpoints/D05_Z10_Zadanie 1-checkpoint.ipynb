{
 "cells": [
  {
   "cell_type": "markdown",
   "metadata": {},
   "source": [
    "# Zadanie 1\n",
    "\n",
    "Dwunastu tokarzy wykonuje takie same części. Ich średnia wydajność w sztukach na godzinę wynosi odpowiednio: \n",
    "\n",
    "4.6, 6.1, 10.3, 9.8, 6.7, 12.3, 14.5, 8.7, 9.0, 7.3, 8.8, 11.2. \n",
    "\n",
    "Znaleźć $98\\%$--ową realizację przedziału ufności dla wariancji liczby sztuk wykonywanych w ciągu godziny przez jednego tokarza."
   ]
  },
  {
   "cell_type": "code",
   "execution_count": 1,
   "metadata": {},
   "outputs": [],
   "source": [
    "import matplotlib.pyplot as plt\n",
    "import numpy as np\n",
    "from scipy import stats\n",
    "from scipy import integrate"
   ]
  },
  {
   "cell_type": "markdown",
   "metadata": {},
   "source": [
    "## Zdefiniuj zmienną losową"
   ]
  },
  {
   "cell_type": "code",
   "execution_count": 2,
   "metadata": {},
   "outputs": [
    {
     "data": {
      "text/plain": [
       "array([ 4.6,  6.1, 10.3,  9.8,  6.7, 12.3, 14.5,  8.7,  9. ,  7.3,  8.8,\n",
       "       11.2])"
      ]
     },
     "execution_count": 2,
     "metadata": {},
     "output_type": "execute_result"
    }
   ],
   "source": [
    "data = np.array([4.6, 6.1, 10.3, 9.8, 6.7, 12.3, 14.5, 8.7, 9.0, 7.3, 8.8, 11.2])\n",
    "data"
   ]
  },
  {
   "cell_type": "markdown",
   "metadata": {},
   "source": [
    "## Wylicz końce przedziałów"
   ]
  },
  {
   "cell_type": "code",
   "execution_count": 13,
   "metadata": {},
   "outputs": [
    {
     "name": "stdout",
     "output_type": "stream",
     "text": [
      "12\n",
      "2.649672411617876\n"
     ]
    }
   ],
   "source": [
    "alpha = 0.02\n",
    "X = stats.chi2(len(data)-1)\n",
    "n = len(data)\n",
    "S = np.std(data)\n",
    "print(n)\n",
    "print(S)"
   ]
  },
  {
   "cell_type": "markdown",
   "metadata": {},
   "source": [
    "## Wypisz przedział ufności"
   ]
  },
  {
   "cell_type": "code",
   "execution_count": 11,
   "metadata": {},
   "outputs": [
    {
     "name": "stdout",
     "output_type": "stream",
     "text": [
      "9.16325336742361\n",
      "9.052618592681462\n"
     ]
    }
   ],
   "source": [
    "L = np.sqrt(n-1/X.ppf(1-alpha/2))*S\n",
    "print(L)\n",
    "P = np.sqrt(n-1/X.ppf(alpha/2))*S\n",
    "print(P)"
   ]
  },
  {
   "cell_type": "code",
   "execution_count": null,
   "metadata": {},
   "outputs": [],
   "source": []
  },
  {
   "cell_type": "markdown",
   "metadata": {},
   "source": [
    "# Zadanie 2\n",
    "Wykonaj zadanie za pomocą <tt>scipy</tt> i <tt>funkcji stats.norm.interval</tt>."
   ]
  },
  {
   "cell_type": "code",
   "execution_count": null,
   "metadata": {},
   "outputs": [],
   "source": []
  },
  {
   "cell_type": "markdown",
   "metadata": {},
   "source": [
    "# Zadanie 3\n",
    "Narysuj przedział ufności na wykresie gęstości i dystrybuanty odpowiedniego rozkładu."
   ]
  },
  {
   "cell_type": "code",
   "execution_count": null,
   "metadata": {},
   "outputs": [],
   "source": []
  }
 ],
 "metadata": {
  "kernelspec": {
   "display_name": "Python 3",
   "language": "python",
   "name": "python3"
  },
  "language_info": {
   "codemirror_mode": {
    "name": "ipython",
    "version": 3
   },
   "file_extension": ".py",
   "mimetype": "text/x-python",
   "name": "python",
   "nbconvert_exporter": "python",
   "pygments_lexer": "ipython3",
   "version": "3.6.4"
  }
 },
 "nbformat": 4,
 "nbformat_minor": 2
}
