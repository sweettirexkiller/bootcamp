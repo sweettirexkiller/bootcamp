{
 "cells": [
  {
   "cell_type": "code",
   "execution_count": 1,
   "metadata": {},
   "outputs": [],
   "source": [
    "import numpy as np\n",
    "import matplotlib.pyplot as plt\n",
    "from scipy import stats\n",
    "import pandas as pd\n",
    "from statsmodels.formula.api import ols\n",
    "from statsmodels.stats.anova import anova_lm\n",
    "from statsmodels.stats.multicomp import (pairwise_tukeyhsd, MultiComparison)\n",
    "from statsmodels.stats.libqsturng import psturng"
   ]
  },
  {
   "cell_type": "markdown",
   "metadata": {},
   "source": [
    "# Zadanie \n",
    "Pewna grupa poddała się trzem testom.\n",
    "Na podstawie poniższych wyników chcielibyśmy zweryfikować hipotezę zerowa mówiącą, że środni wynik w tych trzech testach jest taki sam."
   ]
  },
  {
   "cell_type": "code",
   "execution_count": 7,
   "metadata": {},
   "outputs": [],
   "source": [
    "data = np.rec.array([\n",
    "    (  1,   'mental',  2 ),\n",
    "    (  2,   'mental',  2 ),\n",
    "    (  3,   'mental',  3 ),\n",
    "    (  4,   'mental',  4 ),\n",
    "    (  5,   'mental',  4 ),\n",
    "    (  6,   'mental',  5 ),\n",
    "    (  7,   'mental',  3 ),\n",
    "    (  8,   'mental',  4 ),\n",
    "    (  9,   'mental',  4 ),\n",
    "    ( 10,   'mental',  4 ),\n",
    "    ( 11, 'physical',  4 ),\n",
    "    ( 12, 'physical',  4 ),\n",
    "    ( 13, 'physical',  3 ),\n",
    "    ( 14, 'physical',  5 ),\n",
    "    ( 15, 'physical',  4 ),\n",
    "    ( 16, 'physical',  1 ),\n",
    "    ( 17, 'physical',  1 ),\n",
    "    ( 18, 'physical',  2 ),\n",
    "    ( 19, 'physical',  3 ),\n",
    "    ( 20, 'physical',  3 ),\n",
    "    ( 21,  'medical',  1 ),\n",
    "    ( 22,  'medical',  2 ),\n",
    "    ( 23,  'medical',  2 ),\n",
    "    ( 24,  'medical',  2 ),\n",
    "    ( 25,  'medical',  3 ),\n",
    "    ( 26,  'medical',  2 ),\n",
    "    ( 27,  'medical',  3 ),\n",
    "    ( 28,  'medical',  1 ),\n",
    "    ( 29,  'medical',  3 ),\n",
    "    ( 30,  'medical',  1 )], dtype=[('idx', '<i4'),\n",
    "                                    ('Treatment', '|S8'),\n",
    "                                    ('StressReduction', '<i4')])"
   ]
  },
  {
   "cell_type": "markdown",
   "metadata": {},
   "source": [
    "# Wykonujemy test ANOVA"
   ]
  },
  {
   "cell_type": "code",
   "execution_count": 16,
   "metadata": {},
   "outputs": [],
   "source": [
    "df = pd.DataFrame(data)\n",
    "d1=df[\"StressReduction\"][df[\"Treatment\"]==b'mental']\n",
    "d2=df[\"StressReduction\"][df[\"Treatment\"]==b'physical']\n",
    "d3=df[\"StressReduction\"][df[\"Treatment\"]==b'medical']"
   ]
  },
  {
   "cell_type": "code",
   "execution_count": 19,
   "metadata": {},
   "outputs": [
    {
     "name": "stdout",
     "output_type": "stream",
     "text": [
      "('Mental:  ', 3.5)\n",
      "('Physical: ', 3.0)\n",
      "('Medical: ', 2.0)\n"
     ]
    }
   ],
   "source": [
    "print(\"Mental:  \", np.mean(d1))\n",
    "print(\"Physical: \", np.mean(d2))\n",
    "print(\"Medical: \",np.mean(d3))"
   ]
  },
  {
   "cell_type": "code",
   "execution_count": 12,
   "metadata": {},
   "outputs": [
    {
     "name": "stdout",
     "output_type": "stream",
     "text": [
      "LEVENA ANOVA\n",
      "=============\n",
      "('P value:', 0.4567120561411028)\n"
     ]
    }
   ],
   "source": [
    "# Levena\n",
    "(f, p) = stats.levene(d1,d2,d3)\n",
    "print ('LEVENA ANOVA')\n",
    "print ('=============')\n",
    "print ('P value:', p)"
   ]
  },
  {
   "cell_type": "code",
   "execution_count": 14,
   "metadata": {},
   "outputs": [
    {
     "name": "stdout",
     "output_type": "stream",
     "text": [
      "One-way ANOVA\n",
      "=============\n",
      "('F value:', 5.163934426229508)\n",
      "('P value:', 0.012617190941750378)\n"
     ]
    }
   ],
   "source": [
    "f, p = stats.f_oneway(d1,d2,d3)\n",
    " \n",
    "print ('One-way ANOVA')\n",
    "print ('=============')\n",
    " \n",
    "print ('F value:', f)\n",
    "print ('P value:', p)"
   ]
  },
  {
   "cell_type": "markdown",
   "metadata": {},
   "source": [
    "## Wniosek\n",
    "\n",
    "...\n",
    "\n",
    "# Wykonujemy analizę post hoc"
   ]
  },
  {
   "cell_type": "code",
   "execution_count": 23,
   "metadata": {},
   "outputs": [
    {
     "name": "stdout",
     "output_type": "stream",
     "text": [
      "Multiple Comparison of Means - Tukey HSD,FWER=0.05\n",
      "===============================================\n",
      " group1  group2  meandiff  lower  upper  reject\n",
      "-----------------------------------------------\n",
      "medical  mental    1.5     0.3217 2.6783  True \n",
      "medical physical   1.0    -0.1783 2.1783 False \n",
      " mental physical   -0.5   -1.6783 0.6783 False \n",
      "-----------------------------------------------\n"
     ]
    }
   ],
   "source": [
    "print(pairwise_tukeyhsd(data['StressReduction'], data['Treatment']))"
   ]
  },
  {
   "cell_type": "code",
   "execution_count": 24,
   "metadata": {},
   "outputs": [],
   "source": [
    "multiComp = MultiComparison(data['StressReduction'], data['Treatment'])"
   ]
  },
  {
   "cell_type": "code",
   "execution_count": 25,
   "metadata": {},
   "outputs": [
    {
     "data": {
      "image/png": "[encoded data removed]",
      "text/plain": [
       "<Figure size 432x288 with 1 Axes>"
      ]
     },
     "metadata": {},
     "output_type": "display_data"
    }
   ],
   "source": [
    "# Get the data\n",
    "xvals = np.arange(3)\n",
    "res2 = pairwise_tukeyhsd(data['StressReduction'], data['Treatment'])\n",
    "errors = np.ravel(np.diff(res2.confint)/2)\n",
    "\n",
    "# Plot them\n",
    "plt.plot(xvals, res2.meandiffs, 'o')\n",
    "plt.errorbar(xvals, res2.meandiffs, yerr=errors, fmt='o')\n",
    "\n",
    "# Put on labels\n",
    "pair_labels = multiComp.groupsunique[np.column_stack(res2._multicomp.pairindices)]\n",
    "plt.xticks(xvals, pair_labels)\n",
    "\n",
    "# Format the plot\n",
    "xlim = -0.5, 2.5\n",
    "plt.hlines(0, *xlim)\n",
    "plt.xlim(*xlim)\n",
    "plt.title('Multiple Comparison of Means - Tukey HSD, FWER=0.05' + '\\n Pairwise Mean Differences')          \n",
    "plt.show()"
   ]
  }
 ],
 "metadata": {
  "kernelspec": {
   "display_name": "Python 2",
   "language": "python",
   "name": "python2"
  },
  "language_info": {
   "codemirror_mode": {
    "name": "ipython",
    "version": 2
   },
   "file_extension": ".py",
   "mimetype": "text/x-python",
   "name": "python",
   "nbconvert_exporter": "python",
   "pygments_lexer": "ipython2",
   "version": "2.7.14"
  }
 },
 "nbformat": 4,
 "nbformat_minor": 2
}
