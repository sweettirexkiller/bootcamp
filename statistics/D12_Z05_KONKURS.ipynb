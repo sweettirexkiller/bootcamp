{
 "cells": [
  {
   "cell_type": "markdown",
   "metadata": {
    "collapsed": true
   },
   "source": [
    "# KONKURS"
   ]
  },
  {
   "cell_type": "code",
   "execution_count": 1,
   "metadata": {},
   "outputs": [],
   "source": [
    "import numpy as np\n",
    "import matplotlib.pyplot as plt\n",
    "from sklearn import datasets\n",
    "from sklearn.model_selection import cross_val_predict\n",
    "from sklearn import linear_model\n",
    "import matplotlib.pyplot as plt"
   ]
  },
  {
   "cell_type": "markdown",
   "metadata": {},
   "source": [
    "Rozważmy zbiór Diabetes"
   ]
  },
  {
   "cell_type": "code",
   "execution_count": 2,
   "metadata": {},
   "outputs": [
    {
     "name": "stdout",
     "output_type": "stream",
     "text": [
      "Diabetes dataset\n",
      "================\n",
      "\n",
      "Notes\n",
      "-----\n",
      "\n",
      "Ten baseline variables, age, sex, body mass index, average blood\n",
      "pressure, and six blood serum measurements were obtained for each of n =\n",
      "442 diabetes patients, as well as the response of interest, a\n",
      "quantitative measure of disease progression one year after baseline.\n",
      "\n",
      "Data Set Characteristics:\n",
      "\n",
      "  :Number of Instances: 442\n",
      "\n",
      "  :Number of Attributes: First 10 columns are numeric predictive values\n",
      "\n",
      "  :Target: Column 11 is a quantitative measure of disease progression one year after baseline\n",
      "\n",
      "  :Attributes:\n",
      "    :Age:\n",
      "    :Sex:\n",
      "    :Body mass index:\n",
      "    :Average blood pressure:\n",
      "    :S1:\n",
      "    :S2:\n",
      "    :S3:\n",
      "    :S4:\n",
      "    :S5:\n",
      "    :S6:\n",
      "\n",
      "Note: Each of these 10 feature variables have been mean centered and scaled by the standard deviation times `n_samples` (i.e. the sum of squares of each column totals 1).\n",
      "\n",
      "Source URL:\n",
      "http://www4.stat.ncsu.edu/~boos/var.select/diabetes.html\n",
      "\n",
      "For more information see:\n",
      "Bradley Efron, Trevor Hastie, Iain Johnstone and Robert Tibshirani (2004) \"Least Angle Regression,\" Annals of Statistics (with discussion), 407-499.\n",
      "(http://web.stanford.edu/~hastie/Papers/LARS/LeastAngle_2002.pdf)\n",
      "\n"
     ]
    }
   ],
   "source": [
    "diabetes = datasets.load_diabetes()\n",
    "# print description\n",
    "print(diabetes.DESCR)"
   ]
  },
  {
   "cell_type": "code",
   "execution_count": 3,
   "metadata": {
    "scrolled": true
   },
   "outputs": [
    {
     "name": "stdout",
     "output_type": "stream",
     "text": [
      "[[ 0.03807591  0.05068012  0.06169621 ... -0.00259226  0.01990842\n",
      "  -0.01764613]\n",
      " [-0.00188202 -0.04464164 -0.05147406 ... -0.03949338 -0.06832974\n",
      "  -0.09220405]\n",
      " [ 0.08529891  0.05068012  0.04445121 ... -0.00259226  0.00286377\n",
      "  -0.02593034]\n",
      " ...\n",
      " [ 0.04170844  0.05068012 -0.01590626 ... -0.01107952 -0.04687948\n",
      "   0.01549073]\n",
      " [-0.04547248 -0.04464164  0.03906215 ...  0.02655962  0.04452837\n",
      "  -0.02593034]\n",
      " [-0.04547248 -0.04464164 -0.0730303  ... -0.03949338 -0.00421986\n",
      "   0.00306441]]\n"
     ]
    }
   ],
   "source": [
    "print(diabetes.data)"
   ]
  },
  {
   "cell_type": "code",
   "execution_count": 4,
   "metadata": {},
   "outputs": [],
   "source": [
    "# get the data\n",
    "diabetes_X = diabetes.data\n",
    "diabetes_Y = diabetes.target"
   ]
  },
  {
   "cell_type": "markdown",
   "metadata": {},
   "source": [
    "Podzielmy zbiór na część testową i treningową ."
   ]
  },
  {
   "cell_type": "code",
   "execution_count": 5,
   "metadata": {},
   "outputs": [],
   "source": [
    "# Split the data into training/testing sets\n",
    "diabetes_X_train = diabetes_X[:-50]\n",
    "diabetes_X_test = diabetes_X[-50:]\n",
    " \n",
    "# Split the targets into training/testing sets\n",
    "diabetes_y_train = diabetes_Y[:-50]\n",
    "diabetes_y_test = diabetes_Y[-50:]"
   ]
  },
  {
   "cell_type": "markdown",
   "metadata": {
    "collapsed": true
   },
   "source": [
    "# KONKURS\n",
    "Proszę nuczyć model na <tt>diabetes_X_train</tt>.\n",
    "\n",
    "NIE WOLNO UZYWAĆ <tt>diabetes_X_test</tt>\n"
   ]
  },
  {
   "cell_type": "code",
   "execution_count": 6,
   "metadata": {},
   "outputs": [],
   "source": [
    "from sklearn import model_selection\n",
    "from sklearn.preprocessing import PolynomialFeatures\n",
    "from sklearn.pipeline import make_pipeline\n",
    "from sklearn.ensemble import RandomForestRegressor\n",
    "from sklearn.neural_network import MLPRegressor"
   ]
  },
  {
   "cell_type": "code",
   "execution_count": 19,
   "metadata": {},
   "outputs": [],
   "source": [
    "# prepare models\n",
    "models = []\n",
    "\n",
    "models.append(('LR1', make_pipeline(PolynomialFeatures(), linear_model.LinearRegression())))\n",
    "# models.append(('LR5', make_pipeline(PolynomialFeatures(5), linear_model.LinearRegression())))\n",
    "models.append(('RR1_0.1', make_pipeline(PolynomialFeatures(), linear_model.Ridge(alpha=0.1))))\n",
    "models.append(('LR2_0.01', make_pipeline(PolynomialFeatures(2), linear_model.Lasso(alpha=0.01)) ))\n",
    "models.append(('El1', make_pipeline(PolynomialFeatures(), linear_model.ElasticNet(alpha=0.01, l1_ratio=0.01, normalize=True)) ))\n",
    "models.append(('RF10', RandomForestRegressor(max_depth=5,random_state=5) ))\n",
    "models.append(('NN2020', MLPRegressor(hidden_layer_sizes=(20, 20),activation='identity',alpha=20,max_iter=100) ))\n",
    "\n",
    "# evaluate each model in turn\n",
    "results = []\n",
    "names = []"
   ]
  },
  {
   "cell_type": "code",
   "execution_count": 20,
   "metadata": {},
   "outputs": [],
   "source": [
    "seed=123\n",
    "kfold = model_selection.KFold(n_splits=10, random_state=seed)\n",
    "scoring = 'neg_mean_absolute_error'\n",
    "#scoring = 'r2'"
   ]
  },
  {
   "cell_type": "code",
   "execution_count": 21,
   "metadata": {},
   "outputs": [
    {
     "name": "stdout",
     "output_type": "stream",
     "text": [
      "LR1  MEAN: -47.581904 STD: (5.040762)\n",
      "RR1_0.1  MEAN: -46.151901 STD: (5.245816)\n",
      "LR2_0.01  MEAN: -45.598285 STD: (5.230312)\n",
      "El1  MEAN: -53.650210 STD: (6.358052)\n",
      "RF10  MEAN: -48.308420 STD: (4.859649)\n",
      "NN2020  MEAN: -123.067477 STD: (10.895569)\n"
     ]
    }
   ],
   "source": [
    "for name, model in models:\n",
    "    cv_results = model_selection.cross_val_score(model, diabetes_X_train, diabetes_y_train, cv=kfold, scoring=scoring)\n",
    "    results.append(cv_results)\n",
    "    names.append(name)\n",
    "    msg = \"%s  MEAN: %f STD: (%f)\" % (name, cv_results.mean(), cv_results.std())\n",
    "    print(msg)"
   ]
  },
  {
   "cell_type": "code",
   "execution_count": 22,
   "metadata": {},
   "outputs": [
    {
     "data": {
      "image/png": "[encoded data removed]",
      "text/plain": [
       "<Figure size 432x288 with 1 Axes>"
      ]
     },
     "metadata": {},
     "output_type": "display_data"
    }
   ],
   "source": [
    "fig = plt.figure()\n",
    "fig.suptitle('Algorithm Comparison')\n",
    "ax = fig.add_subplot(111)\n",
    "plt.boxplot(results)\n",
    "ax.set_xticklabels(names)\n",
    "plt.show()"
   ]
  },
  {
   "cell_type": "code",
   "execution_count": 23,
   "metadata": {},
   "outputs": [
    {
     "name": "stdout",
     "output_type": "stream",
     "text": [
      "LR1\n",
      "R^2: 0.464569383284\n",
      "Explained variance score: 0.464597790681\n",
      "Median absolute error: 31.6871999754\n",
      "Mean squared error: 3165.60801639\n",
      "Mean absolute errors: 42.2176781793\n",
      "RR1_0.1\n",
      "R^2: 0.673065787629\n",
      "Explained variance score: 0.673209534197\n",
      "Median absolute error: 33.0017896962\n",
      "Mean squared error: 1932.92189726\n",
      "Mean absolute errors: 34.2100838697\n",
      "LR2_0.01\n",
      "R^2: 0.703109843919\n",
      "Explained variance score: 0.703654266804\n",
      "Median absolute error: 22.8180406326\n",
      "Mean squared error: 1755.29345678\n",
      "Mean absolute errors: 32.4740179127\n",
      "El1\n",
      "R^2: 0.373463993563\n",
      "Explained variance score: 0.373812813332\n",
      "Median absolute error: 57.4652532373\n",
      "Mean squared error: 3704.24727802\n",
      "Mean absolute errors: 52.7132026897\n",
      "RF10\n",
      "R^2: 0.563315115966\n",
      "Explained variance score: 0.564927100982\n",
      "Median absolute error: 37.6186785671\n",
      "Mean squared error: 2581.79701792\n",
      "Mean absolute errors: 42.7504459227\n",
      "NN2020\n",
      "R^2: -2.46241879087\n",
      "Explained variance score: 0.0624759354927\n",
      "Median absolute error: 112.291516634\n",
      "Mean squared error: 20470.7395101\n",
      "Mean absolute errors: 122.17957372\n"
     ]
    }
   ],
   "source": [
    "from sklearn import  metrics\n",
    "\n",
    "\n",
    "for name, model in models:\n",
    "    model.fit(diabetes_X_train,diabetes_y_train)\n",
    "    print(name)\n",
    "    print(\"R^2: {}\".format(metrics.r2_score(diabetes_y_test, model.predict(diabetes_X_test)) ))\n",
    "    print(\"Explained variance score: {}\".format( metrics.explained_variance_score(diabetes_y_test, model.predict(diabetes_X_test)) ))\n",
    "    print(\"Median absolute error: {}\".format( metrics.median_absolute_error(diabetes_y_test, model.predict(diabetes_X_test)) ))\n",
    "    print(\"Mean squared error: {}\".format( metrics.mean_squared_error(diabetes_y_test, model.predict(diabetes_X_test)) ))\n",
    "    print(\"Mean absolute errors: {}\".format(metrics.mean_absolute_error(diabetes_y_test, model.predict(diabetes_X_test)) ))\n"
   ]
  },
  {
   "cell_type": "code",
   "execution_count": 24,
   "metadata": {},
   "outputs": [],
   "source": [
    "from sklearn.model_selection import GridSearchCV"
   ]
  },
  {
   "cell_type": "code",
   "execution_count": 25,
   "metadata": {},
   "outputs": [
    {
     "data": {
      "text/plain": [
       "{'polynomialfeatures__degree': 1}"
      ]
     },
     "execution_count": 25,
     "metadata": {},
     "output_type": "execute_result"
    }
   ],
   "source": [
    "grid_lr = GridSearchCV(make_pipeline(PolynomialFeatures(degree=2), linear_model.LinearRegression()), \n",
    "                       param_grid={'polynomialfeatures__degree': [1, 2, 3, 4]},\n",
    "                    cv=kfold,\n",
    "                    refit=True)\n",
    "grid_lr.fit(diabetes_X_train,diabetes_y_train)\n",
    "grid_lr.best_params_"
   ]
  },
  {
   "cell_type": "code",
   "execution_count": 26,
   "metadata": {},
   "outputs": [
    {
     "data": {
      "text/plain": [
       "GridSearchCV(cv=5, error_score='raise',\n",
       "       estimator=MLPRegressor(activation='tanh', alpha=0.001, batch_size='auto', beta_1=0.9,\n",
       "       beta_2=0.999, early_stopping=False, epsilon=1e-08,\n",
       "       hidden_layer_sizes=(10, 10, 10), learning_rate='constant',\n",
       "       learning_rate_init=0.001, max_iter=100, momentum=0.9,\n",
       "       nesterovs_momentum=True, power_t=0.5, random_state=None,\n",
       "       shuffle=True, solver='adam', tol=0.0001, validation_fraction=0.1,\n",
       "       verbose=False, warm_start=False),\n",
       "       fit_params=None, iid=True, n_jobs=1,\n",
       "       param_grid={'alpha': [1, 10, 20], 'activation': ['identity', 'logistic', 'tanh', 'relu'], 'hidden_layer_sizes': [(20, 20), (10, 10), 10, 20]},\n",
       "       pre_dispatch='2*n_jobs', refit=False, return_train_score='warn',\n",
       "       scoring=None, verbose=0)"
      ]
     },
     "execution_count": 26,
     "metadata": {},
     "output_type": "execute_result"
    }
   ],
   "source": [
    "grid_ls = GridSearchCV(make_pipeline(PolynomialFeatures(degree=2), linear_model.Lasso(alpha=1)),\n",
    "                    param_grid={'polynomialfeatures__degree': [1, 2, 3, 4],\n",
    "                    'lasso__alpha': [0.1, 1, 2, 3, 0.01]},\n",
    "                    cv=kfold,\n",
    "                    refit=True)\n",
    "grid_ls.fit(diabetes_X_train, diabetes_y_train)\n",
    "grid_rf"
   ]
  },
  {
   "cell_type": "code",
   "execution_count": 27,
   "metadata": {},
   "outputs": [
    {
     "data": {
      "text/plain": [
       "GridSearchCV(cv=5, error_score='raise',\n",
       "       estimator=MLPRegressor(activation='tanh', alpha=0.001, batch_size='auto', beta_1=0.9,\n",
       "       beta_2=0.999, early_stopping=False, epsilon=1e-08,\n",
       "       hidden_layer_sizes=(10, 10, 10), learning_rate='constant',\n",
       "       learning_rate_init=0.001, max_iter=100, momentum=0.9,\n",
       "       nesterovs_momentum=True, power_t=0.5, random_state=None,\n",
       "       shuffle=True, solver='adam', tol=0.0001, validation_fraction=0.1,\n",
       "       verbose=False, warm_start=False),\n",
       "       fit_params=None, iid=True, n_jobs=1,\n",
       "       param_grid={'alpha': [1, 10, 20], 'activation': ['identity', 'logistic', 'tanh', 'relu'], 'hidden_layer_sizes': [(20, 20), (10, 10), 10, 20]},\n",
       "       pre_dispatch='2*n_jobs', refit=False, return_train_score='warn',\n",
       "       scoring=None, verbose=0)"
      ]
     },
     "execution_count": 27,
     "metadata": {},
     "output_type": "execute_result"
    }
   ],
   "source": [
    "grid_rf = GridSearchCV(MLPRegressor(hidden_layer_sizes=(10,10,10),activation='tanh',alpha=0.001,max_iter=100),#model powinien byc zainicjalizowany\n",
    "                    param_grid={'hidden_layer_sizes': [(20,20),(10,10), (10), (20)],\n",
    "                                'alpha': [1, 10,20],\n",
    "                               'activation': ['identity', 'logistic', 'tanh', 'relu']                               \n",
    "                               },#parametry do podstawienia\n",
    "                    cv=5,#na ile czesci ma dzielic zbior\n",
    "                    n_jobs=1,\n",
    "                    refit=False)\n",
    "grid_rf.fit(diabetes_X_train,diabetes_y_train)\n"
   ]
  },
  {
   "cell_type": "code",
   "execution_count": null,
   "metadata": {},
   "outputs": [],
   "source": [
    "grid_rf.best_params_"
   ]
  },
  {
   "cell_type": "code",
   "execution_count": 29,
   "metadata": {},
   "outputs": [],
   "source": [
    "import statsmodels.formula.api as sm"
   ]
  }
 ],
 "metadata": {
  "kernelspec": {
   "display_name": "Python 2",
   "language": "python",
   "name": "python2"
  },
  "language_info": {
   "codemirror_mode": {
    "name": "ipython",
    "version": 2
   },
   "file_extension": ".py",
   "mimetype": "text/x-python",
   "name": "python",
   "nbconvert_exporter": "python",
   "pygments_lexer": "ipython2",
   "version": "2.7.14"
  }
 },
 "nbformat": 4,
 "nbformat_minor": 2
}
