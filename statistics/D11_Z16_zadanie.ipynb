{
 "cells": [
  {
   "cell_type": "code",
   "execution_count": 96,
   "metadata": {},
   "outputs": [],
   "source": [
    "import numpy as np\n",
    "import pandas as pd\n",
    "import matplotlib.pyplot as plt\n",
    "import statsmodels.api as sm"
   ]
  },
  {
   "cell_type": "markdown",
   "metadata": {},
   "source": [
    "W poniższym przykładzie posłużymy się zestawem danych reklamowych, obejmującym sprzedaż produktów i ich budżet reklamowy w trzech różnych mediach telewizyjnych, radiu, gazetach."
   ]
  },
  {
   "cell_type": "code",
   "execution_count": 97,
   "metadata": {},
   "outputs": [
    {
     "data": {
      "text/html": [
       "<div>\n",
       "<style scoped>\n",
       "    .dataframe tbody tr th:only-of-type {\n",
       "        vertical-align: middle;\n",
       "    }\n",
       "\n",
       "    .dataframe tbody tr th {\n",
       "        vertical-align: top;\n",
       "    }\n",
       "\n",
       "    .dataframe thead th {\n",
       "        text-align: right;\n",
       "    }\n",
       "</style>\n",
       "<table border=\"1\" class=\"dataframe\">\n",
       "  <thead>\n",
       "    <tr style=\"text-align: right;\">\n",
       "      <th></th>\n",
       "      <th>TV</th>\n",
       "      <th>radio</th>\n",
       "      <th>newspaper</th>\n",
       "      <th>sales</th>\n",
       "    </tr>\n",
       "  </thead>\n",
       "  <tbody>\n",
       "    <tr>\n",
       "      <th>1</th>\n",
       "      <td>230.1</td>\n",
       "      <td>37.8</td>\n",
       "      <td>69.2</td>\n",
       "      <td>22.1</td>\n",
       "    </tr>\n",
       "    <tr>\n",
       "      <th>2</th>\n",
       "      <td>44.5</td>\n",
       "      <td>39.3</td>\n",
       "      <td>45.1</td>\n",
       "      <td>10.4</td>\n",
       "    </tr>\n",
       "    <tr>\n",
       "      <th>3</th>\n",
       "      <td>17.2</td>\n",
       "      <td>45.9</td>\n",
       "      <td>69.3</td>\n",
       "      <td>9.3</td>\n",
       "    </tr>\n",
       "    <tr>\n",
       "      <th>4</th>\n",
       "      <td>151.5</td>\n",
       "      <td>41.3</td>\n",
       "      <td>58.5</td>\n",
       "      <td>18.5</td>\n",
       "    </tr>\n",
       "    <tr>\n",
       "      <th>5</th>\n",
       "      <td>180.8</td>\n",
       "      <td>10.8</td>\n",
       "      <td>58.4</td>\n",
       "      <td>12.9</td>\n",
       "    </tr>\n",
       "  </tbody>\n",
       "</table>\n",
       "</div>"
      ],
      "text/plain": [
       "      TV  radio  newspaper  sales\n",
       "1  230.1   37.8       69.2   22.1\n",
       "2   44.5   39.3       45.1   10.4\n",
       "3   17.2   45.9       69.3    9.3\n",
       "4  151.5   41.3       58.5   18.5\n",
       "5  180.8   10.8       58.4   12.9"
      ]
     },
     "execution_count": 97,
     "metadata": {},
     "output_type": "execute_result"
    }
   ],
   "source": [
    "df_adv = pd.read_csv('http://www-bcf.usc.edu/~gareth/ISL/Advertising.csv', index_col=0)\n",
    "x_population = df_adv[['TV', 'radio', 'newspaper']]\n",
    "y_population = df_adv['sales']\n",
    "df_adv.head()\n",
    "## fit a OLS model with intercept on TV and Radio\n",
    "#X = sm.add_constant(X)\n",
    "#est = sm.OLS(y, X).fit()\n",
    "#est.summary()"
   ]
  },
  {
   "cell_type": "markdown",
   "metadata": {},
   "source": [
    "# Zadanie 1\n",
    "wykonaj model pozwalający przewidzieć zmienną \"Sales\" na podstawie innych zmiennych.\n",
    "\n",
    "Wykonaj kilka modeli i je porównaj."
   ]
  },
  {
   "cell_type": "code",
   "execution_count": 23,
   "metadata": {},
   "outputs": [],
   "source": [
    "import statsmodels.formula.api as smf\n",
    "import statsmodels.api as sm"
   ]
  },
  {
   "cell_type": "code",
   "execution_count": 20,
   "metadata": {},
   "outputs": [],
   "source": [
    "Res1 = sm.OLS(y_population, x_population).fit()"
   ]
  },
  {
   "cell_type": "code",
   "execution_count": 99,
   "metadata": {},
   "outputs": [
    {
     "name": "stdout",
     "output_type": "stream",
     "text": [
      "                  Results: Ordinary least squares\n",
      "==================================================================\n",
      "Model:              OLS              Adj. R-squared:     0.982    \n",
      "Dependent Variable: sales            AIC:                853.0824 \n",
      "Date:               2018-05-20 15:18 BIC:                862.9773 \n",
      "No. Observations:   200              Log-Likelihood:     -423.54  \n",
      "Df Model:           3                F-statistic:        3566.    \n",
      "Df Residuals:       197              Prob (F-statistic): 2.43e-171\n",
      "R-squared:          0.982            Scale:              4.1068   \n",
      "--------------------------------------------------------------------\n",
      "              Coef.    Std.Err.      t      P>|t|    [0.025   0.975]\n",
      "--------------------------------------------------------------------\n",
      "TV            0.0538     0.0013   40.5067   0.0000   0.0512   0.0564\n",
      "radio         0.2222     0.0094   23.5951   0.0000   0.2037   0.2408\n",
      "newspaper     0.0168     0.0067    2.5170   0.0126   0.0036   0.0300\n",
      "------------------------------------------------------------------\n",
      "Omnibus:              5.982         Durbin-Watson:           2.038\n",
      "Prob(Omnibus):        0.050         Jarque-Bera (JB):        7.039\n",
      "Skew:                 -0.232        Prob(JB):                0.030\n",
      "Kurtosis:             3.794         Condition No.:           13   \n",
      "==================================================================\n",
      "\n"
     ]
    }
   ],
   "source": [
    "print(Res1.summary2())"
   ]
  },
  {
   "cell_type": "code",
   "execution_count": 98,
   "metadata": {
    "scrolled": true
   },
   "outputs": [
    {
     "name": "stdout",
     "output_type": "stream",
     "text": [
      "                  Results: Ordinary least squares\n",
      "==================================================================\n",
      "Model:              OLS              Adj. R-squared:     0.997    \n",
      "Dependent Variable: sales            AIC:                94.7639  \n",
      "Date:               2018-05-20 15:18 BIC:                107.9572 \n",
      "No. Observations:   200              Log-Likelihood:     -43.382  \n",
      "Df Model:           3                F-statistic:        1.952e+04\n",
      "Df Residuals:       196              Prob (F-statistic): 2.10e-242\n",
      "R-squared:          0.997            Scale:              0.092195 \n",
      "-------------------------------------------------------------------\n",
      "                 Coef.   Std.Err.     t     P>|t|    [0.025  0.975]\n",
      "-------------------------------------------------------------------\n",
      "Intercept        0.1886    0.1676   1.1251  0.2619  -0.1420  0.5192\n",
      "np.log(TV)       1.9670    0.0345  57.0412  0.0000   1.8990  2.0350\n",
      "radio            0.0458    0.0026  17.4101  0.0000   0.0406  0.0510\n",
      "I(radio):I(TV)   0.0010    0.0000  72.7562  0.0000   0.0010  0.0011\n",
      "------------------------------------------------------------------\n",
      "Omnibus:              0.797         Durbin-Watson:           2.216\n",
      "Prob(Omnibus):        0.671         Jarque-Bera (JB):        0.477\n",
      "Skew:                 -0.023        Prob(JB):                0.788\n",
      "Kurtosis:             3.235         Condition No.:           38534\n",
      "==================================================================\n",
      "* The condition number is large (4e+04). This might indicate\n",
      "strong multicollinearity or other numerical problems.\n"
     ]
    }
   ],
   "source": [
    "est = smf.ols(formula='sales ~ np.log(TV) + radio + I(radio):I(TV)', data=df_adv).fit()\n",
    "print(est.summary2())"
   ]
  },
  {
   "cell_type": "markdown",
   "metadata": {},
   "source": [
    "# Zadanie 2\n",
    "naucz model postaci \"Sales ~ TV + Radio\"\n",
    "i zwizualizuj to n wykresie 2d."
   ]
  },
  {
   "cell_type": "code",
   "execution_count": 92,
   "metadata": {},
   "outputs": [
    {
     "data": {
      "image/png": "[encoded data removed]",
      "text/plain": [
       "<Figure size 432x432 with 1 Axes>"
      ]
     },
     "metadata": {},
     "output_type": "display_data"
    }
   ],
   "source": [
    "plt.figure(figsize=(6,6));\n",
    "axes = plt.gca()\n",
    "\n",
    "plt.plot(x_population['TV'] + x_population['radio'], y_population, 'ok', ms=10);\n",
    "\n",
    "plt.show()"
   ]
  },
  {
   "cell_type": "code",
   "execution_count": 53,
   "metadata": {},
   "outputs": [
    {
     "data": {
      "image/png": "[encoded data removed]",
      "text/plain": [
       "<Figure size 432x432 with 1 Axes>"
      ]
     },
     "metadata": {},
     "output_type": "display_data"
    }
   ],
   "source": [
    "plt.figure(figsize=(6,6));\n",
    "axes = plt.gca()\n",
    "\n",
    "plt.plot(x_population['radio'], y_population, 'o', ms=10);\n",
    "\n",
    "plt.show()"
   ]
  },
  {
   "cell_type": "code",
   "execution_count": 51,
   "metadata": {},
   "outputs": [
    {
     "data": {
      "image/png": "[encoded data removed]",
      "text/plain": [
       "<Figure size 432x432 with 1 Axes>"
      ]
     },
     "metadata": {},
     "output_type": "display_data"
    }
   ],
   "source": [
    "plt.figure(figsize=(6,6));\n",
    "axes = plt.gca()\n",
    "\n",
    "plt.plot(x_population['newspaper'], y_population, 'o', ms=10);\n",
    "\n",
    "plt.show()"
   ]
  }
 ],
 "metadata": {
  "kernelspec": {
   "display_name": "Python 2",
   "language": "python",
   "name": "python2"
  },
  "language_info": {
   "codemirror_mode": {
    "name": "ipython",
    "version": 2
   },
   "file_extension": ".py",
   "mimetype": "text/x-python",
   "name": "python",
   "nbconvert_exporter": "python",
   "pygments_lexer": "ipython2",
   "version": "2.7.14"
  }
 },
 "nbformat": 4,
 "nbformat_minor": 2
}
