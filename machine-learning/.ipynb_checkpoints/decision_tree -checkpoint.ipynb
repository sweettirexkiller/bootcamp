{
 "cells": [
  {
   "cell_type": "code",
   "execution_count": 1,
   "metadata": {},
   "outputs": [],
   "source": [
    "from sklearn.tree import DecisionTreeClassifier"
   ]
  },
  {
   "cell_type": "code",
   "execution_count": 2,
   "metadata": {},
   "outputs": [],
   "source": [
    "from sklearn.datasets import load_breast_cancer\n",
    "data = load_breast_cancer()\n",
    "X,y = data.data, data.target"
   ]
  },
  {
   "cell_type": "code",
   "execution_count": 3,
   "metadata": {},
   "outputs": [],
   "source": [
    "from sklearn.model_selection import train_test_split"
   ]
  },
  {
   "cell_type": "code",
   "execution_count": 4,
   "metadata": {},
   "outputs": [],
   "source": [
    "X_test, X_train, y_test, y_train = train_test_split(X,y, test_size=0.33)"
   ]
  },
  {
   "cell_type": "code",
   "execution_count": 5,
   "metadata": {},
   "outputs": [],
   "source": [
    "from sklearn.pipeline import Pipeline,make_pipeline"
   ]
  },
  {
   "cell_type": "code",
   "execution_count": 6,
   "metadata": {},
   "outputs": [],
   "source": [
    "from sklearn.model_selection import GridSearchCV"
   ]
  },
  {
   "cell_type": "code",
   "execution_count": 15,
   "metadata": {},
   "outputs": [],
   "source": [
    "param_grid = {\"max_depth\":[3,5,7,10],\n",
    "             \"min_samples_leaf\":[5,10,15]}\n",
    "\n",
    "gs = GridSearchCV(DecisionTreeClassifier(),param_grid, cv = 5)"
   ]
  },
  {
   "cell_type": "code",
   "execution_count": 22,
   "metadata": {},
   "outputs": [
    {
     "data": {
      "text/plain": [
       "GridSearchCV(cv=5, error_score='raise',\n",
       "       estimator=DecisionTreeClassifier(class_weight=None, criterion='gini', max_depth=None,\n",
       "            max_features=None, max_leaf_nodes=None,\n",
       "            min_impurity_decrease=0.0, min_impurity_split=None,\n",
       "            min_samples_leaf=1, min_samples_split=2,\n",
       "            min_weight_fraction_leaf=0.0, presort=False, random_state=None,\n",
       "            splitter='best'),\n",
       "       fit_params=None, iid=True, n_jobs=1,\n",
       "       param_grid={'max_depth': [3, 5, 7, 10], 'min_samples_leaf': [5, 10, 15]},\n",
       "       pre_dispatch='2*n_jobs', refit=True, return_train_score='warn',\n",
       "       scoring=None, verbose=0)"
      ]
     },
     "execution_count": 22,
     "metadata": {},
     "output_type": "execute_result"
    }
   ],
   "source": [
    "gs.fit(X_train,y_train)"
   ]
  },
  {
   "cell_type": "code",
   "execution_count": 17,
   "metadata": {},
   "outputs": [
    {
     "data": {
      "text/plain": [
       "{'max_depth': 3, 'min_samples_leaf': 5}"
      ]
     },
     "execution_count": 17,
     "metadata": {},
     "output_type": "execute_result"
    }
   ],
   "source": [
    "gs.best_params_"
   ]
  },
  {
   "cell_type": "code",
   "execution_count": 18,
   "metadata": {},
   "outputs": [],
   "source": [
    "from sklearn.metrics import accuracy_score"
   ]
  },
  {
   "cell_type": "code",
   "execution_count": 19,
   "metadata": {},
   "outputs": [
    {
     "data": {
      "text/plain": [
       "0.9448818897637795"
      ]
     },
     "execution_count": 19,
     "metadata": {},
     "output_type": "execute_result"
    }
   ],
   "source": [
    "accuracy_score(gs.best_estimator_.predict(X_test),y_test)"
   ]
  },
  {
   "cell_type": "code",
   "execution_count": 20,
   "metadata": {},
   "outputs": [
    {
     "data": {
      "text/plain": [
       "DecisionTreeClassifier(class_weight=None, criterion='gini', max_depth=None,\n",
       "            max_features=None, max_leaf_nodes=None,\n",
       "            min_impurity_decrease=0.0, min_impurity_split=None,\n",
       "            min_samples_leaf=1, min_samples_split=2,\n",
       "            min_weight_fraction_leaf=0.0, presort=False, random_state=None,\n",
       "            splitter='best')"
      ]
     },
     "execution_count": 20,
     "metadata": {},
     "output_type": "execute_result"
    }
   ],
   "source": [
    "model = DecisionTreeClassifier()\n",
    "model.fit(X_train, y_train)"
   ]
  },
  {
   "cell_type": "code",
   "execution_count": 28,
   "metadata": {},
   "outputs": [],
   "source": [
    "import sklearn\n",
    "sklearn.tree.export_graphviz(model, out_file=\"tree.dot\")"
   ]
  },
  {
   "cell_type": "markdown",
   "metadata": {},
   "source": [
    "## zbior1.txt"
   ]
  },
  {
   "cell_type": "code",
   "execution_count": 24,
   "metadata": {},
   "outputs": [],
   "source": [
    "import numpy as np "
   ]
  },
  {
   "cell_type": "code",
   "execution_count": 25,
   "metadata": {},
   "outputs": [],
   "source": [
    "dane = np.loadtxt('./zbior1.txt')"
   ]
  },
  {
   "cell_type": "code",
   "execution_count": 26,
   "metadata": {},
   "outputs": [],
   "source": [
    "X = dane[:,:2]\n",
    "y = dane[:,2]"
   ]
  },
  {
   "cell_type": "code",
   "execution_count": 35,
   "metadata": {},
   "outputs": [],
   "source": [
    "X_test, X_train, y_test, y_train = train_test_split(X,y, test_size=100)"
   ]
  },
  {
   "cell_type": "markdown",
   "metadata": {},
   "source": [
    "## DecisionTreeClasifier"
   ]
  },
  {
   "cell_type": "code",
   "execution_count": 34,
   "metadata": {},
   "outputs": [
    {
     "data": {
      "text/plain": [
       "GridSearchCV(cv=5, error_score='raise',\n",
       "       estimator=DecisionTreeClassifier(class_weight=None, criterion='gini', max_depth=None,\n",
       "            max_features=None, max_leaf_nodes=None,\n",
       "            min_impurity_decrease=0.0, min_impurity_split=None,\n",
       "            min_samples_leaf=1, min_samples_split=2,\n",
       "            min_weight_fraction_leaf=0.0, presort=False, random_state=None,\n",
       "            splitter='best'),\n",
       "       fit_params=None, iid=True, n_jobs=1,\n",
       "       param_grid={'max_depth': [3, 5, 7, 10], 'min_samples_leaf': [5, 10, 15]},\n",
       "       pre_dispatch='2*n_jobs', refit=True, return_train_score='warn',\n",
       "       scoring=None, verbose=0)"
      ]
     },
     "execution_count": 34,
     "metadata": {},
     "output_type": "execute_result"
    }
   ],
   "source": [
    "param_grid = {\"max_depth\":[3,5,7,10],\n",
    "             \"min_samples_leaf\":[5,10,15]}\n",
    "\n",
    "gs = GridSearchCV(DecisionTreeClassifier(),param_grid, cv = 5)\n",
    "gs.fit(X_train,y_train)"
   ]
  },
  {
   "cell_type": "code",
   "execution_count": 30,
   "metadata": {},
   "outputs": [
    {
     "data": {
      "text/plain": [
       "{'max_depth': 5, 'min_samples_leaf': 5}"
      ]
     },
     "execution_count": 30,
     "metadata": {},
     "output_type": "execute_result"
    }
   ],
   "source": [
    "gs.best_params_"
   ]
  },
  {
   "cell_type": "code",
   "execution_count": 31,
   "metadata": {},
   "outputs": [
    {
     "data": {
      "text/plain": [
       "0.9047619047619048"
      ]
     },
     "execution_count": 31,
     "metadata": {},
     "output_type": "execute_result"
    }
   ],
   "source": [
    "accuracy_score(gs.best_estimator_.predict(X_test),y_test)"
   ]
  },
  {
   "cell_type": "markdown",
   "metadata": {},
   "source": [
    "## LogisticRegression"
   ]
  },
  {
   "cell_type": "code",
   "execution_count": 38,
   "metadata": {},
   "outputs": [],
   "source": [
    "from sklearn.linear_model import LogisticRegression\n",
    "from sklearn.preprocessing import StandardScaler"
   ]
  },
  {
   "cell_type": "code",
   "execution_count": 41,
   "metadata": {},
   "outputs": [],
   "source": [
    "pipe = Pipeline([(\"standarization\",StandardScaler()),\n",
    "                (\"logreg\",LogisticRegression())])"
   ]
  },
  {
   "cell_type": "code",
   "execution_count": 42,
   "metadata": {},
   "outputs": [
    {
     "data": {
      "text/plain": [
       "Pipeline(memory=None,\n",
       "     steps=[('standarization', StandardScaler(copy=True, with_mean=True, with_std=True)), ('logreg', LogisticRegression(C=1.0, class_weight=None, dual=False, fit_intercept=True,\n",
       "          intercept_scaling=1, max_iter=100, multi_class='ovr', n_jobs=1,\n",
       "          penalty='l2', random_state=None, solver='liblinear', tol=0.0001,\n",
       "          verbose=0, warm_start=False))])"
      ]
     },
     "execution_count": 42,
     "metadata": {},
     "output_type": "execute_result"
    }
   ],
   "source": [
    "pipe.fit(X_train,y_train)"
   ]
  },
  {
   "cell_type": "code",
   "execution_count": 43,
   "metadata": {},
   "outputs": [],
   "source": [
    "param_grid = {\"penalty\":[\"l1\", \"l2\"],\n",
    "             \"C\":[10,1,0.1,0.01]}\n",
    "\n",
    "gs = GridSearchCV(LogisticRegression(),param_grid, cv = 5)"
   ]
  },
  {
   "cell_type": "code",
   "execution_count": 47,
   "metadata": {},
   "outputs": [
    {
     "data": {
      "text/plain": [
       "GridSearchCV(cv=5, error_score='raise',\n",
       "       estimator=LogisticRegression(C=1.0, class_weight=None, dual=False, fit_intercept=True,\n",
       "          intercept_scaling=1, max_iter=100, multi_class='ovr', n_jobs=1,\n",
       "          penalty='l2', random_state=None, solver='liblinear', tol=0.0001,\n",
       "          verbose=0, warm_start=False),\n",
       "       fit_params=None, iid=True, n_jobs=1,\n",
       "       param_grid={'penalty': ['l1', 'l2'], 'C': [10, 1, 0.1, 0.01]},\n",
       "       pre_dispatch='2*n_jobs', refit=True, return_train_score='warn',\n",
       "       scoring=None, verbose=0)"
      ]
     },
     "execution_count": 47,
     "metadata": {},
     "output_type": "execute_result"
    }
   ],
   "source": [
    "gs.fit(X_train,y_train)"
   ]
  },
  {
   "cell_type": "code",
   "execution_count": 48,
   "metadata": {},
   "outputs": [
    {
     "data": {
      "text/plain": [
       "{'C': 10, 'penalty': 'l1'}"
      ]
     },
     "execution_count": 48,
     "metadata": {},
     "output_type": "execute_result"
    }
   ],
   "source": [
    "gs.best_params_"
   ]
  },
  {
   "cell_type": "code",
   "execution_count": 49,
   "metadata": {},
   "outputs": [
    {
     "data": {
      "text/plain": [
       "0.475"
      ]
     },
     "execution_count": 49,
     "metadata": {},
     "output_type": "execute_result"
    }
   ],
   "source": [
    "accuracy_score(gs.best_estimator_.predict(X_test),y_test)"
   ]
  },
  {
   "cell_type": "code",
   "execution_count": 50,
   "metadata": {},
   "outputs": [],
   "source": [
    "from sklearn.datasets import load_iris"
   ]
  },
  {
   "cell_type": "code",
   "execution_count": 52,
   "metadata": {},
   "outputs": [],
   "source": [
    "iris = load_iris()\n",
    "X, y = iris.data, iris.target"
   ]
  },
  {
   "cell_type": "code",
   "execution_count": 60,
   "metadata": {},
   "outputs": [
    {
     "data": {
      "text/plain": [
       "['sepal length (cm)',\n",
       " 'sepal width (cm)',\n",
       " 'petal length (cm)',\n",
       " 'petal width (cm)']"
      ]
     },
     "execution_count": 60,
     "metadata": {},
     "output_type": "execute_result"
    }
   ],
   "source": [
    "iris.feature_names"
   ]
  },
  {
   "cell_type": "code",
   "execution_count": 61,
   "metadata": {},
   "outputs": [
    {
     "data": {
      "text/plain": [
       "array([0, 1, 2])"
      ]
     },
     "execution_count": 61,
     "metadata": {},
     "output_type": "execute_result"
    }
   ],
   "source": [
    "np.unique(y)"
   ]
  },
  {
   "cell_type": "code",
   "execution_count": 62,
   "metadata": {},
   "outputs": [],
   "source": [
    "X_test, X_train, y_test, y_train = train_test_split(X,y, test_size=50)"
   ]
  },
  {
   "cell_type": "code",
   "execution_count": 64,
   "metadata": {},
   "outputs": [
    {
     "data": {
      "text/plain": [
       "LogisticRegression(C=1.0, class_weight=None, dual=False, fit_intercept=True,\n",
       "          intercept_scaling=1, max_iter=100, multi_class='ovr', n_jobs=1,\n",
       "          penalty='l2', random_state=None, solver='liblinear', tol=0.0001,\n",
       "          verbose=0, warm_start=False)"
      ]
     },
     "execution_count": 64,
     "metadata": {},
     "output_type": "execute_result"
    }
   ],
   "source": [
    "model = LogisticRegression()\n",
    "model.fit(X_train,y_train)"
   ]
  },
  {
   "cell_type": "code",
   "execution_count": 65,
   "metadata": {},
   "outputs": [
    {
     "data": {
      "text/plain": [
       "array([2, 2, 2, 1, 0, 2, 0, 2, 2, 0, 2, 0, 2, 0, 1, 1, 0, 0, 0, 0, 2, 2,\n",
       "       2, 0, 1, 2, 2, 0, 2, 1, 0, 2, 0, 2, 2, 2, 0, 0, 0, 2, 2, 0, 0, 0,\n",
       "       1, 1, 0, 1, 1, 1, 0, 2, 1, 2, 1, 2, 2, 1, 2, 0, 2, 0, 2, 2, 1, 2,\n",
       "       0, 1, 1, 0, 2, 1, 2, 1, 0, 1, 0, 1, 0, 1, 1, 2, 1, 2, 2, 2, 0, 2,\n",
       "       1, 1, 1, 0, 0, 1, 2, 0, 2, 1, 2, 0])"
      ]
     },
     "execution_count": 65,
     "metadata": {},
     "output_type": "execute_result"
    }
   ],
   "source": [
    "model.predict(X_test)"
   ]
  },
  {
   "cell_type": "code",
   "execution_count": 67,
   "metadata": {},
   "outputs": [
    {
     "data": {
      "text/plain": [
       "array([[5.31403589e-03, 3.34511857e-01, 6.60174107e-01],\n",
       "       [3.84273518e-03, 4.05925867e-01, 5.90231398e-01],\n",
       "       [1.54771450e-02, 2.90774286e-01, 6.93748569e-01],\n",
       "       [2.46795850e-02, 4.93362905e-01, 4.81957510e-01],\n",
       "       [9.04612061e-01, 9.25441684e-02, 2.84377084e-03],\n",
       "       [1.52352481e-03, 3.30942186e-01, 6.67534289e-01],\n",
       "       [8.55683706e-01, 1.43199601e-01, 1.11669317e-03],\n",
       "       [9.69838204e-04, 2.02833678e-01, 7.96196484e-01],\n",
       "       [4.44666526e-04, 3.99620923e-01, 5.99934410e-01],\n",
       "       [8.08489982e-01, 1.89703119e-01, 1.80689876e-03],\n",
       "       [3.69234887e-02, 4.24518375e-01, 5.38558136e-01],\n",
       "       [8.93568611e-01, 1.05637013e-01, 7.94375975e-04],\n",
       "       [1.07943528e-03, 2.80761856e-01, 7.18158709e-01],\n",
       "       [8.55122167e-01, 1.42423744e-01, 2.45408844e-03],\n",
       "       [5.99320671e-02, 5.42286874e-01, 3.97781059e-01],\n",
       "       [2.49586333e-02, 5.78584824e-01, 3.96456542e-01],\n",
       "       [8.65628186e-01, 1.32061473e-01, 2.31034119e-03],\n",
       "       [8.66311129e-01, 1.32639369e-01, 1.04950177e-03],\n",
       "       [8.63449201e-01, 1.35172223e-01, 1.37857607e-03],\n",
       "       [8.76150524e-01, 1.23257833e-01, 5.91643357e-04],\n",
       "       [2.19313051e-03, 3.60436935e-01, 6.37369935e-01],\n",
       "       [7.31269188e-03, 4.71050969e-01, 5.21636339e-01],\n",
       "       [9.80023655e-03, 3.92848432e-01, 5.97351331e-01],\n",
       "       [8.25995167e-01, 1.71376167e-01, 2.62866602e-03],\n",
       "       [8.56917427e-02, 6.80869421e-01, 2.33438836e-01],\n",
       "       [2.77828258e-03, 3.59360660e-01, 6.37861057e-01],\n",
       "       [1.01763258e-02, 3.44325535e-01, 6.45498140e-01],\n",
       "       [8.12493598e-01, 1.83730473e-01, 3.77592877e-03],\n",
       "       [1.40073840e-03, 3.15256109e-01, 6.83343153e-01],\n",
       "       [7.38368916e-02, 5.42884003e-01, 3.83279105e-01],\n",
       "       [8.45426628e-01, 1.52473988e-01, 2.09938435e-03],\n",
       "       [2.00092873e-03, 2.14448189e-01, 7.83550882e-01],\n",
       "       [8.95103972e-01, 1.04051160e-01, 8.44868044e-04],\n",
       "       [6.94421508e-03, 3.01182658e-01, 6.91873127e-01],\n",
       "       [5.38997609e-02, 4.31938000e-01, 5.14162239e-01],\n",
       "       [3.18071812e-03, 4.82330289e-01, 5.14488993e-01],\n",
       "       [8.74738624e-01, 1.22636552e-01, 2.62482424e-03],\n",
       "       [8.14640161e-01, 1.83603926e-01, 1.75591238e-03],\n",
       "       [9.30935787e-01, 6.84167022e-02, 6.47510880e-04],\n",
       "       [3.41987365e-03, 3.70922952e-01, 6.25657174e-01],\n",
       "       [5.71545740e-02, 3.64222142e-01, 5.78623284e-01],\n",
       "       [8.32482285e-01, 1.64465311e-01, 3.05240410e-03],\n",
       "       [8.14640161e-01, 1.83603926e-01, 1.75591238e-03],\n",
       "       [8.99618917e-01, 9.68382458e-02, 3.54283676e-03],\n",
       "       [1.90302427e-02, 6.60773273e-01, 3.20196484e-01],\n",
       "       [3.68527633e-02, 5.82976153e-01, 3.80171084e-01],\n",
       "       [8.58185864e-01, 1.38307302e-01, 3.50683409e-03],\n",
       "       [5.92032470e-02, 6.18213811e-01, 3.22582942e-01],\n",
       "       [6.98096465e-02, 6.76877697e-01, 2.53312656e-01],\n",
       "       [2.21867188e-02, 5.18895242e-01, 4.58918039e-01],\n",
       "       [9.40769707e-01, 5.87941740e-02, 4.36118861e-04],\n",
       "       [1.29554500e-04, 4.24119356e-01, 5.75751090e-01],\n",
       "       [5.81683028e-02, 5.26423199e-01, 4.15408498e-01],\n",
       "       [3.15815416e-04, 4.38681376e-01, 5.61002808e-01],\n",
       "       [6.49600438e-02, 6.60056353e-01, 2.74983603e-01],\n",
       "       [3.35789014e-03, 3.26368545e-01, 6.70273565e-01],\n",
       "       [2.78866690e-02, 4.72772787e-01, 4.99340544e-01],\n",
       "       [6.17758975e-02, 6.32281333e-01, 3.05942770e-01],\n",
       "       [4.05466134e-03, 1.87947328e-01, 8.07998011e-01],\n",
       "       [7.94381901e-01, 2.03290479e-01, 2.32761966e-03],\n",
       "       [1.05667587e-03, 3.80221076e-01, 6.18722248e-01],\n",
       "       [8.37113408e-01, 1.59848371e-01, 3.03822124e-03],\n",
       "       [9.85428184e-04, 4.36760415e-01, 5.62254156e-01],\n",
       "       [1.29797736e-03, 2.96107079e-01, 7.02594943e-01],\n",
       "       [2.06883327e-02, 6.48870889e-01, 3.30440778e-01],\n",
       "       [3.35789014e-03, 3.26368545e-01, 6.70273565e-01],\n",
       "       [8.70289089e-01, 1.28324269e-01, 1.38664258e-03],\n",
       "       [7.88240942e-02, 4.91890786e-01, 4.29285120e-01],\n",
       "       [6.25578528e-02, 6.46454630e-01, 2.90987518e-01],\n",
       "       [9.12604455e-01, 8.57644322e-02, 1.63111261e-03],\n",
       "       [1.45218805e-03, 2.72949008e-01, 7.25598804e-01],\n",
       "       [4.30689940e-02, 7.51200360e-01, 2.05730647e-01],\n",
       "       [5.96685993e-03, 3.11702785e-01, 6.82330355e-01],\n",
       "       [1.01593860e-02, 5.66175970e-01, 4.23664644e-01],\n",
       "       [8.18537451e-01, 1.78666291e-01, 2.79625820e-03],\n",
       "       [2.61354712e-02, 5.99312055e-01, 3.74552474e-01],\n",
       "       [9.07128139e-01, 9.16320308e-02, 1.23983049e-03],\n",
       "       [5.67855366e-02, 5.18494178e-01, 4.24720286e-01],\n",
       "       [9.16856664e-01, 8.18694042e-02, 1.27393197e-03],\n",
       "       [3.12069593e-03, 5.00193017e-01, 4.96686288e-01],\n",
       "       [6.44590766e-02, 6.44653259e-01, 2.90887665e-01],\n",
       "       [2.59319571e-02, 3.79804254e-01, 5.94263789e-01],\n",
       "       [8.98168724e-02, 6.35730757e-01, 2.74452371e-01],\n",
       "       [4.86342617e-03, 4.09899731e-01, 5.85236842e-01],\n",
       "       [3.78620723e-03, 3.45461628e-01, 6.50752164e-01],\n",
       "       [2.89255117e-03, 3.82599063e-01, 6.14508385e-01],\n",
       "       [8.96036429e-01, 1.03068317e-01, 8.95254151e-04],\n",
       "       [2.59667600e-03, 1.85424039e-01, 8.11979285e-01],\n",
       "       [3.75896821e-02, 6.66292505e-01, 2.96117813e-01],\n",
       "       [5.54244907e-02, 6.77671692e-01, 2.66903817e-01],\n",
       "       [5.59296082e-02, 6.41634255e-01, 3.02436137e-01],\n",
       "       [9.21076434e-01, 7.78902175e-02, 1.03334882e-03],\n",
       "       [9.18044681e-01, 8.06000084e-02, 1.35531027e-03],\n",
       "       [6.11209845e-02, 4.72413756e-01, 4.66465259e-01],\n",
       "       [4.34878063e-03, 2.90185069e-01, 7.05466150e-01],\n",
       "       [8.66826714e-01, 1.30494901e-01, 2.67838474e-03],\n",
       "       [2.71983734e-03, 3.29578441e-01, 6.67701722e-01],\n",
       "       [1.77106867e-01, 6.73278787e-01, 1.49614346e-01],\n",
       "       [8.11921381e-04, 4.38670337e-01, 5.60517742e-01],\n",
       "       [8.82119256e-01, 1.16769545e-01, 1.11119895e-03]])"
      ]
     },
     "execution_count": 67,
     "metadata": {},
     "output_type": "execute_result"
    }
   ],
   "source": [
    "model.predict_proba(X_test)"
   ]
  },
  {
   "cell_type": "code",
   "execution_count": 68,
   "metadata": {},
   "outputs": [
    {
     "data": {
      "text/plain": [
       "0.92"
      ]
     },
     "execution_count": 68,
     "metadata": {},
     "output_type": "execute_result"
    }
   ],
   "source": [
    "accuracy_score(y_test, model.predict(X_test))"
   ]
  },
  {
   "cell_type": "code",
   "execution_count": 69,
   "metadata": {},
   "outputs": [
    {
     "data": {
      "text/plain": [
       "array([[ 0.34086739,  1.08870255, -1.75746105, -0.85652304],\n",
       "       [ 0.32300721, -1.32270038,  0.45723904, -0.85746085],\n",
       "       [-1.15594457, -0.73155165,  1.50028852,  1.70339834]])"
      ]
     },
     "execution_count": 69,
     "metadata": {},
     "output_type": "execute_result"
    }
   ],
   "source": [
    "model.coef_"
   ]
  },
  {
   "cell_type": "code",
   "execution_count": 72,
   "metadata": {},
   "outputs": [],
   "source": [
    "from sklearn.metrics import confusion_matrix"
   ]
  },
  {
   "cell_type": "code",
   "execution_count": 73,
   "metadata": {},
   "outputs": [
    {
     "data": {
      "text/plain": [
       "array([[33,  0,  0],\n",
       "       [ 0, 27,  7],\n",
       "       [ 0,  1, 32]])"
      ]
     },
     "execution_count": 73,
     "metadata": {},
     "output_type": "execute_result"
    }
   ],
   "source": [
    "confusion_matrix(y_test,model.predict(X_test))"
   ]
  },
  {
   "cell_type": "code",
   "execution_count": 75,
   "metadata": {},
   "outputs": [
    {
     "data": {
      "text/plain": [
       "0.97"
      ]
     },
     "execution_count": 75,
     "metadata": {},
     "output_type": "execute_result"
    }
   ],
   "source": [
    "model = DecisionTreeClassifier()\n",
    "model.fit(X_train,y_train)\n",
    "accuracy_score(y_test, model.predict(X_test))"
   ]
  },
  {
   "cell_type": "code",
   "execution_count": 76,
   "metadata": {},
   "outputs": [
    {
     "data": {
      "text/plain": [
       "array([[33,  0,  0],\n",
       "       [ 0, 33,  1],\n",
       "       [ 0,  2, 31]])"
      ]
     },
     "execution_count": 76,
     "metadata": {},
     "output_type": "execute_result"
    }
   ],
   "source": [
    "confusion_matrix(y_test,model.predict(X_test))"
   ]
  },
  {
   "cell_type": "code",
   "execution_count": null,
   "metadata": {},
   "outputs": [],
   "source": []
  }
 ],
 "metadata": {
  "kernelspec": {
   "display_name": "Python 2",
   "language": "python",
   "name": "python2"
  },
  "language_info": {
   "codemirror_mode": {
    "name": "ipython",
    "version": 2
   },
   "file_extension": ".py",
   "mimetype": "text/x-python",
   "name": "python",
   "nbconvert_exporter": "python",
   "pygments_lexer": "ipython2",
   "version": "2.7.14"
  }
 },
 "nbformat": 4,
 "nbformat_minor": 2
}
