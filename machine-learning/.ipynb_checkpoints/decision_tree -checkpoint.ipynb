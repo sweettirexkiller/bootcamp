{
 "cells": [
  {
   "cell_type": "code",
   "execution_count": 1,
   "metadata": {},
   "outputs": [],
   "source": [
    "from sklearn.tree import DecisionTreeClassifier"
   ]
  },
  {
   "cell_type": "code",
   "execution_count": 2,
   "metadata": {},
   "outputs": [],
   "source": [
    "from sklearn.datasets import load_breast_cancer\n",
    "data = load_breast_cancer()\n",
    "X,y = data.data, data.target"
   ]
  },
  {
   "cell_type": "code",
   "execution_count": 3,
   "metadata": {},
   "outputs": [],
   "source": [
    "from sklearn.model_selection import train_test_split"
   ]
  },
  {
   "cell_type": "code",
   "execution_count": 4,
   "metadata": {},
   "outputs": [],
   "source": [
    "X_test, X_train, y_test, y_train = train_test_split(X,y, test_size=0.33)"
   ]
  },
  {
   "cell_type": "code",
   "execution_count": 5,
   "metadata": {},
   "outputs": [],
   "source": [
    "from sklearn.pipeline import Pipeline,make_pipeline"
   ]
  },
  {
   "cell_type": "code",
   "execution_count": 6,
   "metadata": {},
   "outputs": [],
   "source": [
    "from sklearn.model_selection import GridSearchCV"
   ]
  },
  {
   "cell_type": "code",
   "execution_count": 15,
   "metadata": {},
   "outputs": [],
   "source": [
    "param_grid = {\"max_depth\":[3,5,7,10],\n",
    "             \"min_samples_leaf\":[5,10,15]}\n",
    "\n",
    "gs = GridSearchCV(DecisionTreeClassifier(),param_grid, cv = 5)"
   ]
  },
  {
   "cell_type": "code",
   "execution_count": 22,
   "metadata": {},
   "outputs": [
    {
     "data": {
      "text/plain": [
       "GridSearchCV(cv=5, error_score='raise',\n",
       "       estimator=DecisionTreeClassifier(class_weight=None, criterion='gini', max_depth=None,\n",
       "            max_features=None, max_leaf_nodes=None,\n",
       "            min_impurity_decrease=0.0, min_impurity_split=None,\n",
       "            min_samples_leaf=1, min_samples_split=2,\n",
       "            min_weight_fraction_leaf=0.0, presort=False, random_state=None,\n",
       "            splitter='best'),\n",
       "       fit_params=None, iid=True, n_jobs=1,\n",
       "       param_grid={'max_depth': [3, 5, 7, 10], 'min_samples_leaf': [5, 10, 15]},\n",
       "       pre_dispatch='2*n_jobs', refit=True, return_train_score='warn',\n",
       "       scoring=None, verbose=0)"
      ]
     },
     "execution_count": 22,
     "metadata": {},
     "output_type": "execute_result"
    }
   ],
   "source": [
    "gs.fit(X_train,y_train)"
   ]
  },
  {
   "cell_type": "code",
   "execution_count": 17,
   "metadata": {},
   "outputs": [
    {
     "data": {
      "text/plain": [
       "{'max_depth': 3, 'min_samples_leaf': 5}"
      ]
     },
     "execution_count": 17,
     "metadata": {},
     "output_type": "execute_result"
    }
   ],
   "source": [
    "gs.best_params_"
   ]
  },
  {
   "cell_type": "code",
   "execution_count": 18,
   "metadata": {},
   "outputs": [],
   "source": [
    "from sklearn.metrics import accuracy_score"
   ]
  },
  {
   "cell_type": "code",
   "execution_count": 19,
   "metadata": {},
   "outputs": [
    {
     "data": {
      "text/plain": [
       "0.9448818897637795"
      ]
     },
     "execution_count": 19,
     "metadata": {},
     "output_type": "execute_result"
    }
   ],
   "source": [
    "accuracy_score(gs.best_estimator_.predict(X_test),y_test)"
   ]
  },
  {
   "cell_type": "code",
   "execution_count": 20,
   "metadata": {},
   "outputs": [
    {
     "data": {
      "text/plain": [
       "DecisionTreeClassifier(class_weight=None, criterion='gini', max_depth=None,\n",
       "            max_features=None, max_leaf_nodes=None,\n",
       "            min_impurity_decrease=0.0, min_impurity_split=None,\n",
       "            min_samples_leaf=1, min_samples_split=2,\n",
       "            min_weight_fraction_leaf=0.0, presort=False, random_state=None,\n",
       "            splitter='best')"
      ]
     },
     "execution_count": 20,
     "metadata": {},
     "output_type": "execute_result"
    }
   ],
   "source": [
    "model = DecisionTreeClassifier()\n",
    "model.fit(X_train, y_train)"
   ]
  },
  {
   "cell_type": "code",
   "execution_count": 28,
   "metadata": {},
   "outputs": [],
   "source": [
    "import sklearn\n",
    "sklearn.tree.export_graphviz(model, out_file=\"tree.dot\")"
   ]
  },
  {
   "cell_type": "markdown",
   "metadata": {},
   "source": [
    "## zbior1.txt"
   ]
  },
  {
   "cell_type": "code",
   "execution_count": 24,
   "metadata": {},
   "outputs": [],
   "source": [
    "import numpy as np "
   ]
  },
  {
   "cell_type": "code",
   "execution_count": 25,
   "metadata": {},
   "outputs": [],
   "source": [
    "dane = np.loadtxt('./zbior1.txt')"
   ]
  },
  {
   "cell_type": "code",
   "execution_count": 26,
   "metadata": {},
   "outputs": [],
   "source": [
    "X = dane[:,:2]\n",
    "y = dane[:,2]"
   ]
  },
  {
   "cell_type": "code",
   "execution_count": 35,
   "metadata": {},
   "outputs": [],
   "source": [
    "X_test, X_train, y_test, y_train = train_test_split(X,y, test_size=100)"
   ]
  },
  {
   "cell_type": "markdown",
   "metadata": {},
   "source": [
    "## DecisionTreeClasifier"
   ]
  },
  {
   "cell_type": "code",
   "execution_count": 34,
   "metadata": {},
   "outputs": [
    {
     "data": {
      "text/plain": [
       "GridSearchCV(cv=5, error_score='raise',\n",
       "       estimator=DecisionTreeClassifier(class_weight=None, criterion='gini', max_depth=None,\n",
       "            max_features=None, max_leaf_nodes=None,\n",
       "            min_impurity_decrease=0.0, min_impurity_split=None,\n",
       "            min_samples_leaf=1, min_samples_split=2,\n",
       "            min_weight_fraction_leaf=0.0, presort=False, random_state=None,\n",
       "            splitter='best'),\n",
       "       fit_params=None, iid=True, n_jobs=1,\n",
       "       param_grid={'max_depth': [3, 5, 7, 10], 'min_samples_leaf': [5, 10, 15]},\n",
       "       pre_dispatch='2*n_jobs', refit=True, return_train_score='warn',\n",
       "       scoring=None, verbose=0)"
      ]
     },
     "execution_count": 34,
     "metadata": {},
     "output_type": "execute_result"
    }
   ],
   "source": [
    "param_grid = {\"max_depth\":[3,5,7,10],\n",
    "             \"min_samples_leaf\":[5,10,15]}\n",
    "\n",
    "gs = GridSearchCV(DecisionTreeClassifier(),param_grid, cv = 5)\n",
    "gs.fit(X_train,y_train)"
   ]
  },
  {
   "cell_type": "code",
   "execution_count": 30,
   "metadata": {},
   "outputs": [
    {
     "data": {
      "text/plain": [
       "{'max_depth': 5, 'min_samples_leaf': 5}"
      ]
     },
     "execution_count": 30,
     "metadata": {},
     "output_type": "execute_result"
    }
   ],
   "source": [
    "gs.best_params_"
   ]
  },
  {
   "cell_type": "code",
   "execution_count": 31,
   "metadata": {},
   "outputs": [
    {
     "data": {
      "text/plain": [
       "0.9047619047619048"
      ]
     },
     "execution_count": 31,
     "metadata": {},
     "output_type": "execute_result"
    }
   ],
   "source": [
    "accuracy_score(gs.best_estimator_.predict(X_test),y_test)"
   ]
  },
  {
   "cell_type": "markdown",
   "metadata": {},
   "source": [
    "## LogisticRegression"
   ]
  },
  {
   "cell_type": "code",
   "execution_count": 38,
   "metadata": {},
   "outputs": [],
   "source": [
    "from sklearn.linear_model import LogisticRegression\n",
    "from sklearn.preprocessing import StandardScaler"
   ]
  },
  {
   "cell_type": "code",
   "execution_count": 41,
   "metadata": {},
   "outputs": [],
   "source": [
    "pipe = Pipeline([(\"standarization\",StandardScaler()),\n",
    "                (\"logreg\",LogisticRegression())])"
   ]
  },
  {
   "cell_type": "code",
   "execution_count": 42,
   "metadata": {},
   "outputs": [
    {
     "data": {
      "text/plain": [
       "Pipeline(memory=None,\n",
       "     steps=[('standarization', StandardScaler(copy=True, with_mean=True, with_std=True)), ('logreg', LogisticRegression(C=1.0, class_weight=None, dual=False, fit_intercept=True,\n",
       "          intercept_scaling=1, max_iter=100, multi_class='ovr', n_jobs=1,\n",
       "          penalty='l2', random_state=None, solver='liblinear', tol=0.0001,\n",
       "          verbose=0, warm_start=False))])"
      ]
     },
     "execution_count": 42,
     "metadata": {},
     "output_type": "execute_result"
    }
   ],
   "source": [
    "pipe.fit(X_train,y_train)"
   ]
  },
  {
   "cell_type": "code",
   "execution_count": 43,
   "metadata": {},
   "outputs": [],
   "source": [
    "param_grid = {\"penalty\":[\"l1\", \"l2\"],\n",
    "             \"C\":[10,1,0.1,0.01]}\n",
    "\n",
    "gs = GridSearchCV(LogisticRegression(),param_grid, cv = 5)"
   ]
  },
  {
   "cell_type": "code",
   "execution_count": 47,
   "metadata": {},
   "outputs": [
    {
     "data": {
      "text/plain": [
       "GridSearchCV(cv=5, error_score='raise',\n",
       "       estimator=LogisticRegression(C=1.0, class_weight=None, dual=False, fit_intercept=True,\n",
       "          intercept_scaling=1, max_iter=100, multi_class='ovr', n_jobs=1,\n",
       "          penalty='l2', random_state=None, solver='liblinear', tol=0.0001,\n",
       "          verbose=0, warm_start=False),\n",
       "       fit_params=None, iid=True, n_jobs=1,\n",
       "       param_grid={'penalty': ['l1', 'l2'], 'C': [10, 1, 0.1, 0.01]},\n",
       "       pre_dispatch='2*n_jobs', refit=True, return_train_score='warn',\n",
       "       scoring=None, verbose=0)"
      ]
     },
     "execution_count": 47,
     "metadata": {},
     "output_type": "execute_result"
    }
   ],
   "source": [
    "gs.fit(X_train,y_train)"
   ]
  },
  {
   "cell_type": "code",
   "execution_count": 48,
   "metadata": {},
   "outputs": [
    {
     "data": {
      "text/plain": [
       "{'C': 10, 'penalty': 'l1'}"
      ]
     },
     "execution_count": 48,
     "metadata": {},
     "output_type": "execute_result"
    }
   ],
   "source": [
    "gs.best_params_"
   ]
  },
  {
   "cell_type": "code",
   "execution_count": 49,
   "metadata": {},
   "outputs": [
    {
     "data": {
      "text/plain": [
       "0.475"
      ]
     },
     "execution_count": 49,
     "metadata": {},
     "output_type": "execute_result"
    }
   ],
   "source": [
    "accuracy_score(gs.best_estimator_.predict(X_test),y_test)"
   ]
  },
  {
   "cell_type": "code",
   "execution_count": 50,
   "metadata": {},
   "outputs": [],
   "source": [
    "from sklearn.datasets import load_iris"
   ]
  },
  {
   "cell_type": "code",
   "execution_count": 52,
   "metadata": {},
   "outputs": [],
   "source": [
    "iris = load_iris()\n",
    "X, y = iris.data, iris.target"
   ]
  },
  {
   "cell_type": "code",
   "execution_count": 60,
   "metadata": {},
   "outputs": [
    {
     "data": {
      "text/plain": [
       "['sepal length (cm)',\n",
       " 'sepal width (cm)',\n",
       " 'petal length (cm)',\n",
       " 'petal width (cm)']"
      ]
     },
     "execution_count": 60,
     "metadata": {},
     "output_type": "execute_result"
    }
   ],
   "source": [
    "iris.feature_names"
   ]
  },
  {
   "cell_type": "code",
   "execution_count": 61,
   "metadata": {},
   "outputs": [
    {
     "data": {
      "text/plain": [
       "array([0, 1, 2])"
      ]
     },
     "execution_count": 61,
     "metadata": {},
     "output_type": "execute_result"
    }
   ],
   "source": [
    "np.unique(y)"
   ]
  },
  {
   "cell_type": "code",
   "execution_count": 94,
   "metadata": {},
   "outputs": [],
   "source": [
    "X_test, X_train, y_test, y_train = train_test_split(X,y, test_size=0.5)"
   ]
  },
  {
   "cell_type": "code",
   "execution_count": 95,
   "metadata": {},
   "outputs": [
    {
     "data": {
      "text/plain": [
       "LogisticRegression(C=1.0, class_weight=None, dual=False, fit_intercept=True,\n",
       "          intercept_scaling=1, max_iter=100, multi_class='ovr', n_jobs=1,\n",
       "          penalty='l2', random_state=None, solver='liblinear', tol=0.0001,\n",
       "          verbose=0, warm_start=False)"
      ]
     },
     "execution_count": 95,
     "metadata": {},
     "output_type": "execute_result"
    }
   ],
   "source": [
    "model = LogisticRegression()\n",
    "model.fit(X_train,y_train)"
   ]
  },
  {
   "cell_type": "code",
   "execution_count": 96,
   "metadata": {},
   "outputs": [
    {
     "data": {
      "text/plain": [
       "array([2, 2, 2, 0, 0, 2, 1, 1, 2, 0, 1, 1, 0, 2, 2, 2, 2, 2, 2, 1, 2, 0,\n",
       "       0, 1, 1, 2, 2, 1, 2, 2, 2, 2, 1, 0, 1, 1, 2, 1, 2, 0, 0, 2, 0, 0,\n",
       "       2, 1, 1, 2, 0, 1, 0, 2, 1, 1, 1, 0, 1, 2, 0, 2, 2, 0, 2, 0, 1, 2,\n",
       "       1, 1, 2, 2, 0, 1, 2, 1, 1])"
      ]
     },
     "execution_count": 96,
     "metadata": {},
     "output_type": "execute_result"
    }
   ],
   "source": [
    "model.predict(X_test)"
   ]
  },
  {
   "cell_type": "code",
   "execution_count": 97,
   "metadata": {},
   "outputs": [
    {
     "data": {
      "text/plain": [
       "array([[1.42909466e-04, 4.47975241e-01, 5.51881849e-01],\n",
       "       [1.02571724e-03, 2.50126591e-01, 7.48847692e-01],\n",
       "       [4.79558381e-03, 4.90210316e-01, 5.04994100e-01],\n",
       "       [8.59318824e-01, 1.39923336e-01, 7.57840039e-04],\n",
       "       [9.46521825e-01, 5.33876870e-02, 9.04876094e-05],\n",
       "       [3.53373714e-03, 3.70340735e-01, 6.26125528e-01],\n",
       "       [5.44020818e-02, 6.22121613e-01, 3.23476305e-01],\n",
       "       [1.43309525e-01, 6.44419903e-01, 2.12270572e-01],\n",
       "       [2.10405072e-03, 3.95319292e-01, 6.02576657e-01],\n",
       "       [8.35537326e-01, 1.64004929e-01, 4.57745088e-04],\n",
       "       [9.25756911e-03, 5.21325900e-01, 4.69416531e-01],\n",
       "       [1.24683467e-01, 6.72857547e-01, 2.02458986e-01],\n",
       "       [9.18290360e-01, 8.10143545e-02, 6.95285985e-04],\n",
       "       [5.02383963e-04, 4.43190076e-01, 5.56307540e-01],\n",
       "       [2.85721543e-03, 3.29946076e-01, 6.67196709e-01],\n",
       "       [8.54017946e-04, 3.56474117e-01, 6.42671865e-01],\n",
       "       [1.37461182e-03, 3.13815674e-01, 6.84809714e-01],\n",
       "       [2.39740479e-03, 3.72935759e-01, 6.24666836e-01],\n",
       "       [3.05737933e-03, 4.25960448e-01, 5.70982173e-01],\n",
       "       [1.62135784e-02, 5.51559387e-01, 4.32227035e-01],\n",
       "       [5.12498089e-04, 4.54588648e-01, 5.44898854e-01],\n",
       "       [9.33958113e-01, 6.58206510e-02, 2.21235903e-04],\n",
       "       [9.29567075e-01, 7.01531335e-02, 2.79791376e-04],\n",
       "       [3.40040721e-02, 5.14507561e-01, 4.51488367e-01],\n",
       "       [5.22750769e-02, 6.88047061e-01, 2.59677862e-01],\n",
       "       [1.23261194e-03, 2.49377823e-01, 7.49389565e-01],\n",
       "       [2.07443674e-03, 3.49282990e-01, 6.48642573e-01],\n",
       "       [5.85176872e-02, 5.60856203e-01, 3.80626110e-01],\n",
       "       [1.79731644e-03, 3.70452386e-01, 6.27750297e-01],\n",
       "       [4.93605180e-03, 3.53116003e-01, 6.41947945e-01],\n",
       "       [5.38265102e-05, 4.42309319e-01, 5.57636854e-01],\n",
       "       [1.55593611e-03, 2.61393386e-01, 7.37050678e-01],\n",
       "       [6.14062068e-02, 7.27367795e-01, 2.11225998e-01],\n",
       "       [8.65331933e-01, 1.34382419e-01, 2.85648221e-04],\n",
       "       [3.34399032e-02, 7.68369526e-01, 1.98190571e-01],\n",
       "       [2.58781816e-02, 5.71536165e-01, 4.02585653e-01],\n",
       "       [1.74228293e-03, 4.07813888e-01, 5.90443829e-01],\n",
       "       [5.02009207e-02, 4.96565058e-01, 4.53234021e-01],\n",
       "       [6.92807931e-03, 4.29664551e-01, 5.63407370e-01],\n",
       "       [8.95621419e-01, 1.04155773e-01, 2.22808698e-04],\n",
       "       [8.81185373e-01, 1.18514779e-01, 2.99847760e-04],\n",
       "       [6.08506054e-04, 3.17773273e-01, 6.81618221e-01],\n",
       "       [8.88950239e-01, 1.10727954e-01, 3.21806782e-04],\n",
       "       [8.88147128e-01, 1.11645103e-01, 2.07769014e-04],\n",
       "       [6.67730864e-03, 3.58899801e-01, 6.34422890e-01],\n",
       "       [4.49775827e-03, 5.23363966e-01, 4.72138276e-01],\n",
       "       [5.60034517e-02, 6.92560576e-01, 2.51435973e-01],\n",
       "       [1.95158150e-02, 3.93291430e-01, 5.87192755e-01],\n",
       "       [8.64663813e-01, 1.34616855e-01, 7.19332742e-04],\n",
       "       [1.33047996e-02, 6.70401246e-01, 3.16293955e-01],\n",
       "       [8.96438757e-01, 1.03455730e-01, 1.05513395e-04],\n",
       "       [1.62520038e-03, 3.52082538e-01, 6.46292262e-01],\n",
       "       [6.56249665e-03, 5.67968376e-01, 4.25469128e-01],\n",
       "       [3.09048255e-02, 6.58881784e-01, 3.10213391e-01],\n",
       "       [7.05081782e-02, 6.21329285e-01, 3.08162537e-01],\n",
       "       [9.12788832e-01, 8.70742575e-02, 1.36910641e-04],\n",
       "       [8.25413072e-02, 6.94876465e-01, 2.22582228e-01],\n",
       "       [4.06902005e-03, 3.41167609e-01, 6.54763371e-01],\n",
       "       [8.82382414e-01, 1.17211783e-01, 4.05802446e-04],\n",
       "       [1.81881775e-03, 3.16142771e-01, 6.82038411e-01],\n",
       "       [7.81620430e-04, 3.43128415e-01, 6.56089965e-01],\n",
       "       [8.79910576e-01, 1.19533642e-01, 5.55782219e-04],\n",
       "       [8.34911140e-04, 3.05924483e-01, 6.93240606e-01],\n",
       "       [8.41420461e-01, 1.58144862e-01, 4.34676428e-04],\n",
       "       [3.03046610e-02, 7.20153605e-01, 2.49541734e-01],\n",
       "       [1.80619188e-03, 4.77447736e-01, 5.20746072e-01],\n",
       "       [1.69102290e-02, 5.46766898e-01, 4.36322873e-01],\n",
       "       [5.37880446e-02, 6.87187589e-01, 2.59024366e-01],\n",
       "       [3.23896423e-03, 3.01248126e-01, 6.95512910e-01],\n",
       "       [1.71267946e-03, 4.02794169e-01, 5.95493151e-01],\n",
       "       [8.80780018e-01, 1.18420011e-01, 7.99970456e-04],\n",
       "       [1.97924062e-01, 6.07270919e-01, 1.94805019e-01],\n",
       "       [4.06493930e-04, 4.46020924e-01, 5.53572582e-01],\n",
       "       [1.92895548e-02, 6.29300219e-01, 3.51410227e-01],\n",
       "       [2.05778163e-02, 6.63379755e-01, 3.16042428e-01]])"
      ]
     },
     "execution_count": 97,
     "metadata": {},
     "output_type": "execute_result"
    }
   ],
   "source": [
    "model.predict_proba(X_test)"
   ]
  },
  {
   "cell_type": "code",
   "execution_count": 98,
   "metadata": {},
   "outputs": [
    {
     "data": {
      "text/plain": [
       "0.9733333333333334"
      ]
     },
     "execution_count": 98,
     "metadata": {},
     "output_type": "execute_result"
    }
   ],
   "source": [
    "accuracy_score(y_test, model.predict(X_test))"
   ]
  },
  {
   "cell_type": "code",
   "execution_count": 99,
   "metadata": {},
   "outputs": [
    {
     "data": {
      "text/plain": [
       "array([[ 0.36991667,  1.29160107, -1.97545897, -0.91334444],\n",
       "       [ 0.35381003, -1.41382187,  0.51087824, -0.78443135],\n",
       "       [-1.19877294, -1.29184959,  1.88853996,  1.65067421]])"
      ]
     },
     "execution_count": 99,
     "metadata": {},
     "output_type": "execute_result"
    }
   ],
   "source": [
    "model.coef_"
   ]
  },
  {
   "cell_type": "code",
   "execution_count": 100,
   "metadata": {},
   "outputs": [],
   "source": [
    "from sklearn.metrics import confusion_matrix"
   ]
  },
  {
   "cell_type": "code",
   "execution_count": 101,
   "metadata": {},
   "outputs": [
    {
     "data": {
      "text/plain": [
       "array([[18,  0,  0],\n",
       "       [ 0, 25,  2],\n",
       "       [ 0,  0, 30]])"
      ]
     },
     "execution_count": 101,
     "metadata": {},
     "output_type": "execute_result"
    }
   ],
   "source": [
    "confusion_matrix(y_test,model.predict(X_test))"
   ]
  },
  {
   "cell_type": "code",
   "execution_count": 102,
   "metadata": {},
   "outputs": [
    {
     "data": {
      "text/plain": [
       "0.9333333333333333"
      ]
     },
     "execution_count": 102,
     "metadata": {},
     "output_type": "execute_result"
    }
   ],
   "source": [
    "model = DecisionTreeClassifier(min_samples_leaf=5)\n",
    "model.fit(X_train,y_train)\n",
    "accuracy_score(y_test, model.predict(X_test))"
   ]
  },
  {
   "cell_type": "code",
   "execution_count": 103,
   "metadata": {},
   "outputs": [
    {
     "data": {
      "text/plain": [
       "array([[18,  0,  0],\n",
       "       [ 0, 23,  4],\n",
       "       [ 0,  1, 29]])"
      ]
     },
     "execution_count": 103,
     "metadata": {},
     "output_type": "execute_result"
    }
   ],
   "source": [
    "confusion_matrix(y_test,model.predict(X_test))"
   ]
  },
  {
   "cell_type": "code",
   "execution_count": 104,
   "metadata": {},
   "outputs": [
    {
     "data": {
      "text/plain": [
       "array([[0.        , 0.        , 1.        ],\n",
       "       [0.        , 0.        , 1.        ],\n",
       "       [0.        , 0.        , 1.        ],\n",
       "       [1.        , 0.        , 0.        ],\n",
       "       [1.        , 0.        , 0.        ],\n",
       "       [0.        , 0.        , 1.        ],\n",
       "       [0.        , 0.66666667, 0.33333333],\n",
       "       [0.        , 1.        , 0.        ],\n",
       "       [0.        , 0.        , 1.        ],\n",
       "       [1.        , 0.        , 0.        ],\n",
       "       [0.        , 0.        , 1.        ],\n",
       "       [0.        , 1.        , 0.        ],\n",
       "       [1.        , 0.        , 0.        ],\n",
       "       [0.        , 0.        , 1.        ],\n",
       "       [0.        , 0.        , 1.        ],\n",
       "       [0.        , 0.        , 1.        ],\n",
       "       [0.        , 0.        , 1.        ],\n",
       "       [0.        , 0.        , 1.        ],\n",
       "       [0.        , 0.        , 1.        ],\n",
       "       [0.        , 1.        , 0.        ],\n",
       "       [0.        , 0.        , 1.        ],\n",
       "       [1.        , 0.        , 0.        ],\n",
       "       [1.        , 0.        , 0.        ],\n",
       "       [0.        , 0.66666667, 0.33333333],\n",
       "       [0.        , 1.        , 0.        ],\n",
       "       [0.        , 0.        , 1.        ],\n",
       "       [0.        , 0.        , 1.        ],\n",
       "       [0.        , 0.66666667, 0.33333333],\n",
       "       [0.        , 0.        , 1.        ],\n",
       "       [0.        , 0.        , 1.        ],\n",
       "       [0.        , 0.        , 1.        ],\n",
       "       [0.        , 0.        , 1.        ],\n",
       "       [0.        , 1.        , 0.        ],\n",
       "       [1.        , 0.        , 0.        ],\n",
       "       [0.        , 1.        , 0.        ],\n",
       "       [0.        , 1.        , 0.        ],\n",
       "       [0.        , 0.        , 1.        ],\n",
       "       [0.        , 1.        , 0.        ],\n",
       "       [0.        , 0.66666667, 0.33333333],\n",
       "       [1.        , 0.        , 0.        ],\n",
       "       [1.        , 0.        , 0.        ],\n",
       "       [0.        , 0.        , 1.        ],\n",
       "       [1.        , 0.        , 0.        ],\n",
       "       [1.        , 0.        , 0.        ],\n",
       "       [0.        , 0.        , 1.        ],\n",
       "       [0.        , 0.        , 1.        ],\n",
       "       [0.        , 1.        , 0.        ],\n",
       "       [0.        , 0.66666667, 0.33333333],\n",
       "       [1.        , 0.        , 0.        ],\n",
       "       [0.        , 1.        , 0.        ],\n",
       "       [1.        , 0.        , 0.        ],\n",
       "       [0.        , 0.        , 1.        ],\n",
       "       [0.        , 0.66666667, 0.33333333],\n",
       "       [0.        , 0.66666667, 0.33333333],\n",
       "       [0.        , 1.        , 0.        ],\n",
       "       [1.        , 0.        , 0.        ],\n",
       "       [0.        , 1.        , 0.        ],\n",
       "       [0.        , 0.        , 1.        ],\n",
       "       [1.        , 0.        , 0.        ],\n",
       "       [0.        , 0.        , 1.        ],\n",
       "       [0.        , 0.        , 1.        ],\n",
       "       [1.        , 0.        , 0.        ],\n",
       "       [0.        , 0.        , 1.        ],\n",
       "       [1.        , 0.        , 0.        ],\n",
       "       [0.        , 1.        , 0.        ],\n",
       "       [0.        , 0.        , 1.        ],\n",
       "       [0.        , 1.        , 0.        ],\n",
       "       [0.        , 1.        , 0.        ],\n",
       "       [0.        , 0.        , 1.        ],\n",
       "       [0.        , 0.        , 1.        ],\n",
       "       [1.        , 0.        , 0.        ],\n",
       "       [0.        , 1.        , 0.        ],\n",
       "       [0.        , 0.        , 1.        ],\n",
       "       [0.        , 0.66666667, 0.33333333],\n",
       "       [0.        , 0.        , 1.        ]])"
      ]
     },
     "execution_count": 104,
     "metadata": {},
     "output_type": "execute_result"
    }
   ],
   "source": [
    "model.predict_proba(X_test)"
   ]
  },
  {
   "cell_type": "code",
   "execution_count": null,
   "metadata": {},
   "outputs": [],
   "source": []
  }
 ],
 "metadata": {
  "kernelspec": {
   "display_name": "Python 2",
   "language": "python",
   "name": "python2"
  },
  "language_info": {
   "codemirror_mode": {
    "name": "ipython",
    "version": 2
   },
   "file_extension": ".py",
   "mimetype": "text/x-python",
   "name": "python",
   "nbconvert_exporter": "python",
   "pygments_lexer": "ipython2",
   "version": "2.7.14"
  }
 },
 "nbformat": 4,
 "nbformat_minor": 2
}
