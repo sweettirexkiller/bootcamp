{
 "cells": [
  {
   "cell_type": "code",
   "execution_count": 34,
   "metadata": {},
   "outputs": [],
   "source": [
    "from sklearn.ensemble import RandomForestClassifier,BaggingClassifier, VotingClassifier"
   ]
  },
  {
   "cell_type": "code",
   "execution_count": 83,
   "metadata": {},
   "outputs": [],
   "source": [
    "?BaggingClassifier"
   ]
  },
  {
   "cell_type": "code",
   "execution_count": 36,
   "metadata": {},
   "outputs": [],
   "source": [
    "import pandas as pd\n",
    "import numpy as np\n",
    "from sklearn.model_selection import train_test_split, GridSearchCV\n",
    "from sklearn.metrics import accuracy_score,precision_score, recall_score, f1_score, classification_report\n",
    "from sklearn.preprocessing import StandardScaler\n",
    "from sklearn.pipeline import Pipeline\n",
    "from sklearn.feature_extraction.text import CountVectorizer\n",
    "from sklearn.tree import DecisionTreeClassifier\n",
    "from sklearn.svm import SVC"
   ]
  },
  {
   "cell_type": "code",
   "execution_count": 37,
   "metadata": {},
   "outputs": [],
   "source": [
    "sms = pd.read_table(\"./sms.tsv\", header=None, names=[\"label\", \"message\"])\n",
    "sms[\"label\"] = sms.label.map({\"ham\":0, \"spam\":1})\n",
    "X = sms.message\n",
    "y = sms.label\n",
    "X_test, X_train, y_test, y_train = train_test_split(X,y, test_size=1000,random_state=123)"
   ]
  },
  {
   "cell_type": "code",
   "execution_count": 89,
   "metadata": {},
   "outputs": [],
   "source": [
    "steps = {\n",
    "    \"random\": {\n",
    "        \"pipe\": Pipeline([('counter',CountVectorizer(max_df=0.8,min_df=0.0)),\n",
    "                          ('scaler',StandardScaler(with_mean=False)),\n",
    "                          ('random',RandomForestClassifier())]),\n",
    "        \"param_grid\":{\n",
    "            'random__n_estimators':[10,20,50,100]\n",
    "        }\n",
    "    },\n",
    "    \n",
    "    \"bagging\":{\n",
    "        \"pipe\":Pipeline([\n",
    "            (\"vectorizing\",CountVectorizer()),\n",
    "            (\"bagging\",BaggingClassifier())])\n",
    "        ,\n",
    "        \"param_grid\":{\n",
    "            'bagging__n_estimators':[10,20,50,75],\n",
    "            'bagging__max_samples':[1.0,0.5,0.3],\n",
    "            'bagging__max_features':[1.0,0.5,0.3]\n",
    "        } \n",
    "    }\n",
    "}"
   ]
  },
  {
   "cell_type": "code",
   "execution_count": 93,
   "metadata": {},
   "outputs": [],
   "source": [
    "for key in steps:\n",
    "    pipe = steps[key]['pipe']\n",
    "    param_grid = steps[key]['param_grid']\n",
    "    gs = GridSearchCV(pipe, param_grid, cv = 5)\n",
    "    gs.fit(X_train,y_train)\n",
    "    accuracy = accuracy_score(gs.best_estimator_.predict(X_test),y_test)\n",
    "    f1 =  f1_score(gs.best_estimator_.predict(X_test),y_test)\n",
    "    results[key] = {\"accuracy\":accuracy,\"best_params\":gs.best_params_, \"f1\":f1}"
   ]
  },
  {
   "cell_type": "code",
   "execution_count": 94,
   "metadata": {},
   "outputs": [
    {
     "name": "stdout",
     "output_type": "stream",
     "text": [
      "{\n",
      "    \"bagging\": {\n",
      "        \"best_params\": {\n",
      "            \"bagging__n_estimators\": 50, \n",
      "            \"bagging__max_samples\": 1.0, \n",
      "            \"bagging__max_features\": 0.5\n",
      "        }, \n",
      "        \"f1\": 0.8661710037174721, \n",
      "        \"accuracy\": 0.968503937007874\n",
      "    }, \n",
      "    \"random\": {\n",
      "        \"best_params\": {\n",
      "            \"random__n_estimators\": 100\n",
      "        }, \n",
      "        \"f1\": 0.7771084337349398, \n",
      "        \"accuracy\": 0.9514435695538058\n",
      "    }\n",
      "}\n"
     ]
    }
   ],
   "source": [
    "import json\n",
    "print(json.dumps(results, indent=4))"
   ]
  }
 ],
 "metadata": {
  "kernelspec": {
   "display_name": "Python 2",
   "language": "python",
   "name": "python2"
  },
  "language_info": {
   "codemirror_mode": {
    "name": "ipython",
    "version": 2
   },
   "file_extension": ".py",
   "mimetype": "text/x-python",
   "name": "python",
   "nbconvert_exporter": "python",
   "pygments_lexer": "ipython2",
   "version": "2.7.14"
  }
 },
 "nbformat": 4,
 "nbformat_minor": 2
}
