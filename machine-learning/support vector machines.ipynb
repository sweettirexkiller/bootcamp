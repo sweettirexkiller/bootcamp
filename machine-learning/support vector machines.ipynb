{
 "cells": [
  {
   "cell_type": "code",
   "execution_count": 9,
   "metadata": {},
   "outputs": [],
   "source": [
    "from sklearn.svm import SVC\n",
    "import pandas as pd\n",
    "import numpy as np\n",
    "from sklearn.model_selection import train_test_split, GridSearchCV\n",
    "from sklearn.metrics import accuracy_score,precision_score, recall_score, f1_score, classification_report\n",
    "from sklearn.preprocessing import StandardScaler\n",
    "from sklearn.pipeline import Pipeline\n",
    "from sklearn.feature_extraction.text import CountVectorizer"
   ]
  },
  {
   "cell_type": "code",
   "execution_count": 10,
   "metadata": {},
   "outputs": [],
   "source": [
    "sms = pd.read_table(\"./sms.tsv\", header=None, names=[\"label\", \"message\"])\n",
    "sms[\"label\"] = sms.label.map({\"ham\":0, \"spam\":1})\n",
    "X = sms.message\n",
    "y = sms.label\n",
    "X_test, X_train, y_test, y_train = train_test_split(X,y, test_size=1000,random_state=123)"
   ]
  },
  {
   "cell_type": "code",
   "execution_count": 28,
   "metadata": {},
   "outputs": [
    {
     "data": {
      "text/plain": [
       "GridSearchCV(cv=5, error_score='raise',\n",
       "       estimator=Pipeline(memory=None,\n",
       "     steps=[('vectorizing', CountVectorizer(analyzer=u'word', binary=False, decode_error=u'strict',\n",
       "        dtype=<type 'numpy.int64'>, encoding=u'utf-8', input=u'content',\n",
       "        lowercase=True, max_df=1.0, max_features=None, min_df=1,\n",
       "        ngram_range=(1, 1), preprocessor=None, stop_words=None,\n",
       "   ...,\n",
       "  max_iter=-1, probability=False, random_state=None, shrinking=True,\n",
       "  tol=0.001, verbose=False))]),\n",
       "       fit_params=None, iid=True, n_jobs=1,\n",
       "       param_grid=[{'standarization__with_mean': [False], 'svc__kernel': ['linear'], 'svc__C': [1, 10, 100, 1000], 'vectorizing__max_df': [1.0, 0.9], 'vectorizing__max_features': [3000]}, {'standarization__with_mean': [False], 'svc__C': [1, 10, 100, 1000], 'svc__kernel': ['rbf'], 'svc__gamma': [0.001, 0.00...vc__C': [1, 10, 100, 1000], 'vectorizing__max_df': [1.0, 0.9], 'vectorizing__max_features': [3000]}],\n",
       "       pre_dispatch='2*n_jobs', refit=True, return_train_score='warn',\n",
       "       scoring=None, verbose=0)"
      ]
     },
     "execution_count": 28,
     "metadata": {},
     "output_type": "execute_result"
    }
   ],
   "source": [
    "pipe_svc = Pipeline([\n",
    "    (\"vectorizing\",CountVectorizer()),\n",
    "    (\"standarization\",StandardScaler()),\n",
    "    (\"svc\",SVC())])\n",
    "\n",
    "param_grid_svc = [{\"vectorizing__max_df\":[0.01,0.05],\n",
    "                  \"vectorizing__max_features\":[3000],\n",
    "                  \"vectorizing__max_df\":[1.0,0.9],\n",
    "                  \"standarization__with_mean\":[False],\n",
    "                  \"svc__kernel\":['linear'],\n",
    "                  \"svc__C\": [1, 10, 100, 1000]},\n",
    "                 {\"vectorizing__max_df\":[0.01,0.05],\n",
    "                  \"vectorizing__max_features\":[3000],\n",
    "                  \"vectorizing__max_df\":[1.0,0.9],\n",
    "                  \"standarization__with_mean\":[False],\n",
    "                  \"svc__kernel\":['rbf'],\n",
    "                  \"svc__C\": [1, 10, 100, 1000],\n",
    "                  \"svc__gamma\": [0.001, 0.0001]},\n",
    "                 {\"vectorizing__max_df\":[0.01,0.05],\n",
    "                  \"vectorizing__max_features\":[3000],\n",
    "                  \"vectorizing__max_df\":[1.0,0.9],\n",
    "                  \"standarization__with_mean\":[False],\n",
    "                  \"svc__kernel\":['poly'],\n",
    "                  \"svc__C\": [1, 10, 100, 1000],\n",
    "                  \"svc__degree\": [1, 2,3,4,5,8,12,20]},\n",
    "                 {\"vectorizing__max_df\":[0.01,0.05],\n",
    "                  \"vectorizing__max_features\":[3000],\n",
    "                  \"vectorizing__max_df\":[1.0,0.9],\n",
    "                  \"standarization__with_mean\":[False],\n",
    "                  \"svc__kernel\":['sigmoid'],\n",
    "                  \"svc__C\": [1, 10, 100, 1000]}]\n",
    "            \n",
    "\n",
    "gs = GridSearchCV(pipe_svc, param_grid_svc, cv = 5)\n",
    "\n",
    "gs.fit(X_train,y_train)"
   ]
  },
  {
   "cell_type": "code",
   "execution_count": 30,
   "metadata": {},
   "outputs": [
    {
     "name": "stdout",
     "output_type": "stream",
     "text": [
      "             precision    recall  f1-score   support\n",
      "\n",
      "          0       0.97      1.00      0.98      3965\n",
      "          1       0.97      0.78      0.86       607\n",
      "\n",
      "avg / total       0.97      0.97      0.97      4572\n",
      "\n"
     ]
    }
   ],
   "source": [
    "print(classification_report(y_pred=gs.best_estimator_.predict(X_test), y_true=y_test))"
   ]
  },
  {
   "cell_type": "code",
   "execution_count": 31,
   "metadata": {},
   "outputs": [
    {
     "data": {
      "text/plain": [
       "0.973"
      ]
     },
     "execution_count": 31,
     "metadata": {},
     "output_type": "execute_result"
    }
   ],
   "source": [
    "gs.best_score_"
   ]
  },
  {
   "cell_type": "code",
   "execution_count": 32,
   "metadata": {},
   "outputs": [
    {
     "data": {
      "text/plain": [
       "Pipeline(memory=None,\n",
       "     steps=[('vectorizing', CountVectorizer(analyzer=u'word', binary=False, decode_error=u'strict',\n",
       "        dtype=<type 'numpy.int64'>, encoding=u'utf-8', input=u'content',\n",
       "        lowercase=True, max_df=1.0, max_features=3000, min_df=1,\n",
       "        ngram_range=(1, 1), preprocessor=None, stop_words=None,\n",
       "   ...,\n",
       "  max_iter=-1, probability=False, random_state=None, shrinking=True,\n",
       "  tol=0.001, verbose=False))])"
      ]
     },
     "execution_count": 32,
     "metadata": {},
     "output_type": "execute_result"
    }
   ],
   "source": [
    "gs.best_estimator_"
   ]
  },
  {
   "cell_type": "code",
   "execution_count": 35,
   "metadata": {},
   "outputs": [
    {
     "data": {
      "text/plain": [
       "{'standarization__with_mean': False,\n",
       " 'svc__C': 10,\n",
       " 'svc__kernel': 'sigmoid',\n",
       " 'vectorizing__max_df': 1.0,\n",
       " 'vectorizing__max_features': 3000}"
      ]
     },
     "execution_count": 35,
     "metadata": {},
     "output_type": "execute_result"
    }
   ],
   "source": [
    "gs.best_params_"
   ]
  },
  {
   "cell_type": "code",
   "execution_count": 36,
   "metadata": {},
   "outputs": [
    {
     "data": {
      "text/plain": [
       "0.9674103237095363"
      ]
     },
     "execution_count": 36,
     "metadata": {},
     "output_type": "execute_result"
    }
   ],
   "source": [
    "accuracy_score(y_pred=gs.best_estimator_.predict(X_test), y_true=y_test)"
   ]
  },
  {
   "cell_type": "code",
   "execution_count": null,
   "metadata": {},
   "outputs": [],
   "source": []
  }
 ],
 "metadata": {
  "kernelspec": {
   "display_name": "Python 2",
   "language": "python",
   "name": "python2"
  },
  "language_info": {
   "codemirror_mode": {
    "name": "ipython",
    "version": 2
   },
   "file_extension": ".py",
   "mimetype": "text/x-python",
   "name": "python",
   "nbconvert_exporter": "python",
   "pygments_lexer": "ipython2",
   "version": "2.7.14"
  }
 },
 "nbformat": 4,
 "nbformat_minor": 2
}
