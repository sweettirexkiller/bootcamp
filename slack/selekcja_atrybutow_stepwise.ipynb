{
 "cells": [
  {
   "cell_type": "markdown",
   "metadata": {},
   "source": [
    "# Selekcja atrybutów - stepwise"
   ]
  },
  {
   "cell_type": "markdown",
   "metadata": {},
   "source": [
    "### Algorytm (forward)\n",
    "\n",
    "1. Zaczynamy od pustego modelu (0 zmiennych wybranych) i przyjmujemy, że wartość kryterium (np. BIC, AIC): C = Inf\n",
    "2. Szukamy zmiennej, której dodanie do modelu najbardziej zmniejszy kryterium C. \n",
    "   * Jeśli wartość C jest mniejsza od poprzedniej wartości - dodajemy zmienną i kontynuujemy\n",
    "   * Jeśli wartość C dla najlepszego znalezionego w tym kroku modelu nie spadła w stosunku do poprzedniego kroku,\n",
    "     to nie dołączamy zmiennej i kończymy"
   ]
  },
  {
   "cell_type": "markdown",
   "metadata": {},
   "source": [
    "## Zadanie 1\n",
    "\n",
    "Zaimplementuj powyższy algorytm. "
   ]
  },
  {
   "cell_type": "markdown",
   "metadata": {},
   "source": [
    "## Zadanie 2\n",
    "\n",
    "Przetestuj jego działanie na dobrze znanym zbiorze winequality-red.csv i porównaj wyniki z LASSO i Lasami Losowymi.\n"
   ]
  },
  {
   "cell_type": "markdown",
   "metadata": {},
   "source": [
    "## Inne warianty\n",
    "\n",
    "Powyższy algorytm można zmodyfikować, aby startował z pełneo modelu i w każdym kroku usuwał zmienną, tak aby minimalizować kryterium C (backward)\n",
    "\n",
    "Można również startować z pustego albo pełneo modelu i w każdym kroku dodawać lub usuwać zmienną, zgodnie z powyższymi zasadami. Koniec nastąpi, gdy ani dodanie, a ni usunięcie zmiennej nie spowoduje spadku wartości kryterium."
   ]
  }
 ],
 "metadata": {
  "kernelspec": {
   "display_name": "Python 3",
   "language": "python",
   "name": "python3"
  },
  "language_info": {
   "codemirror_mode": {
    "name": "ipython",
    "version": 3
   },
   "file_extension": ".py",
   "mimetype": "text/x-python",
   "name": "python",
   "nbconvert_exporter": "python",
   "pygments_lexer": "ipython3",
   "version": "3.6.2"
  }
 },
 "nbformat": 4,
 "nbformat_minor": 2
}
