{
 "cells": [
  {
   "cell_type": "markdown",
   "metadata": {},
   "source": [
    "# Selekcja atrybutów - LASSO"
   ]
  },
  {
   "cell_type": "code",
   "execution_count": 7,
   "metadata": {},
   "outputs": [],
   "source": [
    "import numpy as np\n",
    "import pandas as pd\n",
    "import matplotlib.pyplot as plt\n",
    "from sklearn import linear_model\n",
    "from sklearn.preprocessing import StandardScaler"
   ]
  },
  {
   "cell_type": "markdown",
   "metadata": {},
   "source": [
    "Przećwiczymy na znanych danych danych reklamowych, obejmujących sprzedaż produktów i ich budżet reklamowy w trzech różnych mediach telewizyjnych, radiu, gazetach."
   ]
  },
  {
   "cell_type": "code",
   "execution_count": 8,
   "metadata": {},
   "outputs": [
    {
     "name": "stdout",
     "output_type": "stream",
     "text": [
      "      TV  radio  newspaper  sales\n",
      "1  230.1   37.8       69.2   22.1\n",
      "2   44.5   39.3       45.1   10.4\n",
      "3   17.2   45.9       69.3    9.3\n",
      "4  151.5   41.3       58.5   18.5\n",
      "5  180.8   10.8       58.4   12.9\n",
      "[[ 0.96985227  0.98152247  1.77894547]\n",
      " [-1.19737623  1.08280781  0.66957876]\n",
      " [-1.51615499  1.52846331  1.78354865]\n",
      " [ 0.05204968  1.21785493  1.28640506]\n",
      " [ 0.3941822  -0.84161366  1.28180188]\n",
      " [-1.61540845  1.73103399  2.04592999]]\n",
      "[ 2.44249065e-14 -9.05941988e-14  4.44089210e-14]\n",
      "[1. 1. 1.]\n"
     ]
    }
   ],
   "source": [
    "df_adv = pd.read_csv('http://www-bcf.usc.edu/~gareth/ISL/Advertising.csv', index_col=0)\n",
    "print(df_adv.head())\n",
    "scaler = StandardScaler()\n",
    "X = df_adv[['TV', 'radio','newspaper']]\n",
    "X = scaler.fit_transform(X)\n",
    "y = df_adv['sales']\n",
    "y = scaler.fit_transform(y.values.reshape(-1,1))\n",
    "print(X[:6,:])\n",
    "print(X.sum(axis=0))\n",
    "print(X.var(axis=0))\n",
    "\n"
   ]
  },
  {
   "cell_type": "code",
   "execution_count": 9,
   "metadata": {},
   "outputs": [
    {
     "data": {
      "text/plain": [
       "((200, 3), (200, 1), (200,))"
      ]
     },
     "execution_count": 9,
     "metadata": {},
     "output_type": "execute_result"
    }
   ],
   "source": [
    "X.shape, y.shape, y.squeeze().shape"
   ]
  },
  {
   "cell_type": "code",
   "execution_count": 10,
   "metadata": {},
   "outputs": [
    {
     "name": "stdout",
     "output_type": "stream",
     "text": [
      ".[0.78222442 0.56427718 0.00272176 0.        ]\n",
      "(3, 4)\n",
      "[0. 0. 0.]\n",
      "[0.21794725 0.         0.        ]\n",
      "[ 0.75306591  0.53648155 -0.00433069]\n",
      "[0.78222442 0.56427718 0.00272176 0.        ]\n",
      "[-0.57786226 -0.44742385 -0.00271806 -0.        ]\n"
     ]
    }
   ],
   "source": [
    "alphas, active, coefs = linear_model.lars_path(X, y.squeeze(), method='lasso', verbose=True)\n",
    "\n",
    "print(alphas)\n",
    "\n",
    "print(coefs.shape)\n",
    "print(coefs[:,0])\n",
    "print(coefs[:,1])\n",
    "\n",
    "print(coefs[:,-1])\n",
    "\n",
    "print(alphas)\n",
    "print(-np.log1p(alphas))\n"
   ]
  },
  {
   "cell_type": "code",
   "execution_count": 11,
   "metadata": {},
   "outputs": [
    {
     "data": {
      "image/png": "[encoded data removed]",
      "text/plain": [
       "<Figure size 432x288 with 1 Axes>"
      ]
     },
     "metadata": {},
     "output_type": "display_data"
    }
   ],
   "source": [
    "# co krok\n",
    "#x_plot = np.arange(len(alphas))\n",
    "\n",
    "# -log(alpha)\n",
    "x_plot = -np.log1p(alphas)\n",
    "\n",
    "# współczynniki\n",
    "#x_plot = np.sum(np.abs(coefs.T), axis=1)\n",
    "#x_plot /= x_plot[-1]\n",
    "\n",
    "## alpha\n",
    "#x_plot = -alphas\n",
    "\n",
    "plt.plot(x_plot, coefs.T)\n",
    "ymin, ymax = plt.ylim()\n",
    "plt.vlines(x_plot, ymin, ymax, linestyle='dashed')\n",
    "#plt.xlabel('|coef| / max|coef|')\n",
    "plt.xlabel(u'-log(alpha)')\n",
    "#plt.xlabel('step')\n",
    "#plt.label('-alpha')\n",
    "plt.ylabel(u'Współczynniki')\n",
    "plt.title(u'ścieżka rozwiązań LASSO')\n",
    "plt.show()\n"
   ]
  },
  {
   "cell_type": "markdown",
   "metadata": {
    "collapsed": true
   },
   "source": [
    "## Zadanie\n",
    "Z repozytorium UCI https://archive.ics.uci.edu/ml/datasets.html pobierz zbiór dotyczący jakości wina:\n",
    "https://archive.ics.uci.edu/ml/datasets/Wine+Quality\n",
    "\n",
    "Przyjmij zmienną <tt>alcohol</tt> jako predyktor i narysuj ścieżkę LASSO."
   ]
  },
  {
   "cell_type": "code",
   "execution_count": 22,
   "metadata": {},
   "outputs": [
    {
     "data": {
      "text/html": [
       "<div>\n",
       "<style scoped>\n",
       "    .dataframe tbody tr th:only-of-type {\n",
       "        vertical-align: middle;\n",
       "    }\n",
       "\n",
       "    .dataframe tbody tr th {\n",
       "        vertical-align: top;\n",
       "    }\n",
       "\n",
       "    .dataframe thead th {\n",
       "        text-align: right;\n",
       "    }\n",
       "</style>\n",
       "<table border=\"1\" class=\"dataframe\">\n",
       "  <thead>\n",
       "    <tr style=\"text-align: right;\">\n",
       "      <th></th>\n",
       "      <th>fixed acidity</th>\n",
       "      <th>volatile acidity</th>\n",
       "      <th>citric acid</th>\n",
       "      <th>residual sugar</th>\n",
       "      <th>chlorides</th>\n",
       "      <th>free sulfur dioxide</th>\n",
       "      <th>total sulfur dioxide</th>\n",
       "      <th>density</th>\n",
       "      <th>pH</th>\n",
       "      <th>sulphates</th>\n",
       "      <th>alcohol</th>\n",
       "      <th>quality</th>\n",
       "    </tr>\n",
       "  </thead>\n",
       "  <tbody>\n",
       "    <tr>\n",
       "      <th>0</th>\n",
       "      <td>7.4</td>\n",
       "      <td>0.70</td>\n",
       "      <td>0.00</td>\n",
       "      <td>1.9</td>\n",
       "      <td>0.076</td>\n",
       "      <td>11.0</td>\n",
       "      <td>34.0</td>\n",
       "      <td>0.9978</td>\n",
       "      <td>3.51</td>\n",
       "      <td>0.56</td>\n",
       "      <td>9.4</td>\n",
       "      <td>5</td>\n",
       "    </tr>\n",
       "    <tr>\n",
       "      <th>1</th>\n",
       "      <td>7.8</td>\n",
       "      <td>0.88</td>\n",
       "      <td>0.00</td>\n",
       "      <td>2.6</td>\n",
       "      <td>0.098</td>\n",
       "      <td>25.0</td>\n",
       "      <td>67.0</td>\n",
       "      <td>0.9968</td>\n",
       "      <td>3.20</td>\n",
       "      <td>0.68</td>\n",
       "      <td>9.8</td>\n",
       "      <td>5</td>\n",
       "    </tr>\n",
       "    <tr>\n",
       "      <th>2</th>\n",
       "      <td>7.8</td>\n",
       "      <td>0.76</td>\n",
       "      <td>0.04</td>\n",
       "      <td>2.3</td>\n",
       "      <td>0.092</td>\n",
       "      <td>15.0</td>\n",
       "      <td>54.0</td>\n",
       "      <td>0.9970</td>\n",
       "      <td>3.26</td>\n",
       "      <td>0.65</td>\n",
       "      <td>9.8</td>\n",
       "      <td>5</td>\n",
       "    </tr>\n",
       "    <tr>\n",
       "      <th>3</th>\n",
       "      <td>11.2</td>\n",
       "      <td>0.28</td>\n",
       "      <td>0.56</td>\n",
       "      <td>1.9</td>\n",
       "      <td>0.075</td>\n",
       "      <td>17.0</td>\n",
       "      <td>60.0</td>\n",
       "      <td>0.9980</td>\n",
       "      <td>3.16</td>\n",
       "      <td>0.58</td>\n",
       "      <td>9.8</td>\n",
       "      <td>6</td>\n",
       "    </tr>\n",
       "    <tr>\n",
       "      <th>4</th>\n",
       "      <td>7.4</td>\n",
       "      <td>0.70</td>\n",
       "      <td>0.00</td>\n",
       "      <td>1.9</td>\n",
       "      <td>0.076</td>\n",
       "      <td>11.0</td>\n",
       "      <td>34.0</td>\n",
       "      <td>0.9978</td>\n",
       "      <td>3.51</td>\n",
       "      <td>0.56</td>\n",
       "      <td>9.4</td>\n",
       "      <td>5</td>\n",
       "    </tr>\n",
       "  </tbody>\n",
       "</table>\n",
       "</div>"
      ],
      "text/plain": [
       "   fixed acidity  volatile acidity  citric acid  residual sugar  chlorides  \\\n",
       "0            7.4              0.70         0.00             1.9      0.076   \n",
       "1            7.8              0.88         0.00             2.6      0.098   \n",
       "2            7.8              0.76         0.04             2.3      0.092   \n",
       "3           11.2              0.28         0.56             1.9      0.075   \n",
       "4            7.4              0.70         0.00             1.9      0.076   \n",
       "\n",
       "   free sulfur dioxide  total sulfur dioxide  density    pH  sulphates  \\\n",
       "0                 11.0                  34.0   0.9978  3.51       0.56   \n",
       "1                 25.0                  67.0   0.9968  3.20       0.68   \n",
       "2                 15.0                  54.0   0.9970  3.26       0.65   \n",
       "3                 17.0                  60.0   0.9980  3.16       0.58   \n",
       "4                 11.0                  34.0   0.9978  3.51       0.56   \n",
       "\n",
       "   alcohol  quality  \n",
       "0      9.4        5  \n",
       "1      9.8        5  \n",
       "2      9.8        5  \n",
       "3      9.8        6  \n",
       "4      9.4        5  "
      ]
     },
     "execution_count": 22,
     "metadata": {},
     "output_type": "execute_result"
    }
   ],
   "source": [
    "df_wine_red = pd.read_csv('./winequality-red.csv', sep=\";\")\n",
    "df_wine_red.head()"
   ]
  },
  {
   "cell_type": "code",
   "execution_count": 28,
   "metadata": {},
   "outputs": [
    {
     "name": "stdout",
     "output_type": "stream",
     "text": [
      "[[-0.52835961  0.96187667 -1.39147228 -0.45321841 -0.24370669 -0.46619252\n",
      "  -0.37913269 -0.37913269  0.55827446  1.28864292 -0.57920652 -0.78782264]\n",
      " [-0.29854743  1.96744245 -1.39147228  0.04341614  0.2238752   0.87263823\n",
      "   0.62436323  0.62436323  0.02826077 -0.7199333   0.1289504  -0.78782264]\n",
      " [-0.29854743  1.29706527 -1.18607043 -0.16942723  0.09635286 -0.08366945\n",
      "   0.22904665  0.22904665  0.13426351 -0.33117661 -0.04808883 -0.78782264]\n",
      " [ 1.65485608 -1.38444349  1.4841536  -0.45321841 -0.26496041  0.10759209\n",
      "   0.41150046  0.41150046  0.6642772  -0.97910442 -0.46118037  0.45084835]\n",
      " [-0.52835961  0.96187667 -1.39147228 -0.45321841 -0.24370669 -0.46619252\n",
      "  -0.37913269 -0.37913269  0.55827446  1.28864292 -0.57920652 -0.78782264]\n",
      " [-0.52835961  0.73841761 -1.39147228 -0.5241662  -0.26496041 -0.27493098\n",
      "  -0.19667889 -0.19667889  0.55827446  1.28864292 -0.57920652 -0.78782264]]\n",
      "[ 5.68434189e-13  2.77111667e-13 -1.42108547e-13 -1.98951966e-13\n",
      "  6.25277607e-13 -9.94759830e-14  7.10542736e-14  7.10542736e-14\n",
      "  3.78008735e-11  4.57589522e-12  1.08002496e-12  1.42108547e-13]\n",
      "[1. 1. 1. 1. 1. 1. 1. 1. 1. 1. 1. 1.]\n"
     ]
    }
   ],
   "source": [
    "X = df_wine_red[['fixed acidity', 'volatile acidity','citric acid',\n",
    "                 'residual sugar', 'chlorides', 'free sulfur dioxide',\n",
    "                 'total sulfur dioxide','total sulfur dioxide',\n",
    "                 'density', 'pH', 'sulphates', 'quality']]\n",
    "\n",
    "X = scaler.fit_transform(X)\n",
    "y = df_wine_red['alcohol']\n",
    "y = scaler.fit_transform(y.values.reshape(-1,1))\n",
    "print(X[:6,:])\n",
    "print(X.sum(axis=0))\n",
    "print(X.var(axis=0))"
   ]
  },
  {
   "cell_type": "code",
   "execution_count": 47,
   "metadata": {},
   "outputs": [
    {
     "name": "stdout",
     "output_type": "stream",
     "text": [
      ".[8, 11, 2, 3, 6, 7, 9, 4, 0, 10, 5, 1]\n"
     ]
    }
   ],
   "source": [
    "alphas, active, coefs = linear_model.lars_path(X,y.squeeze(), method='lasso',verbose=True)\n",
    "\n",
    "print(active)\n"
   ]
  },
  {
   "cell_type": "code",
   "execution_count": 40,
   "metadata": {},
   "outputs": [
    {
     "data": {
      "image/png": "[encoded data removed]",
      "text/plain": [
       "<Figure size 432x288 with 1 Axes>"
      ]
     },
     "metadata": {},
     "output_type": "display_data"
    }
   ],
   "source": [
    "x_plot= -np.log1p(alphas)\n",
    "\n",
    "\n",
    "plt.plot(x_plot, coefs.T)\n",
    "\n",
    "ymin,ymax = plt.ylim()\n",
    "\n",
    "plt.vlines(x_plot, ymin, ymax, linestyle='dashed')\n",
    "\n",
    "plt.xlabel(u'-log(alpha)')\n",
    "plt.ylabel(u'Współczynniki')\n",
    "plt.title(u'ścieżka rozwiązań LASSO')\n",
    "plt.show()\n"
   ]
  },
  {
   "cell_type": "code",
   "execution_count": 63,
   "metadata": {},
   "outputs": [
    {
     "name": "stdout",
     "output_type": "stream",
     "text": [
      "[0.         0.         0.         0.         0.         0.\n",
      " 0.         0.         0.         0.         0.         0.\n",
      " 0.09902203]\n",
      "[0.         0.         0.         0.01483235 0.02989464 0.0410745\n",
      " 0.0410745  0.04831675 0.08840708 0.0969503  0.09208351 0.09163684\n",
      " 0.14984755]\n",
      "[0.         0.         0.         0.         0.01559866 0.02842509\n",
      " 0.02842509 0.03348523 0.06054914 0.14382132 0.26429063 0.26890683\n",
      " 0.3471362 ]\n",
      "[ 0.          0.          0.          0.          0.          0.\n",
      "  0.          0.         -0.01264744 -0.00086528 -0.01358677 -0.0139834\n",
      " -0.04120413]\n",
      "[ 0.          0.          0.          0.          0.          0.\n",
      "  0.          0.          0.          0.          0.         -0.00241602\n",
      " -0.02962959]\n",
      "[ 0.          0.          0.          0.          0.         -0.00909229\n",
      " -0.00909229 -0.01457225 -0.0439019  -0.05163308 -0.07118128 -0.06932256\n",
      " -0.06555548]\n",
      "[0.00000000e+00 0.00000000e+00 0.00000000e+00 0.00000000e+00\n",
      " 0.00000000e+00 0.00000000e+00 1.01893697e-17 1.92204351e-03\n",
      " 1.22040796e-02 1.57682033e-02 2.37904452e-02 2.31899268e-02\n",
      " 2.26349484e-02]\n",
      "[ 0.         -0.02425635 -0.29313304 -0.30813    -0.3290105  -0.3441727\n",
      " -0.3441727  -0.3495613  -0.37749717 -0.56298339 -0.82550108 -0.83533014\n",
      " -1.01592571]\n",
      "[0.         0.         0.         0.         0.         0.\n",
      " 0.         0.00529053 0.03114284 0.18340098 0.38784039 0.3956315\n",
      " 0.52401191]\n",
      "[0.         0.         0.         0.         0.         0.\n",
      " 0.         0.         0.         0.         0.08182432 0.08492115\n",
      " 0.15175013]\n",
      "[0.         0.         0.26887669 0.27324359 0.27635277 0.2765116\n",
      " 0.2765116  0.27651702 0.27460365 0.25137204 0.19481456 0.19291032\n",
      " 0.17597829]\n"
     ]
    }
   ],
   "source": [
    "for i in range(1,X.shape[1]):\n",
    "      if len(coefs[i][np.abs(coefs[i]) > 0]) > 0:"
   ]
  }
 ],
 "metadata": {
  "kernelspec": {
   "display_name": "kernel",
   "language": "python",
   "name": "kernel"
  },
  "language_info": {
   "codemirror_mode": {
    "name": "ipython",
    "version": 2
   },
   "file_extension": ".py",
   "mimetype": "text/x-python",
   "name": "python",
   "nbconvert_exporter": "python",
   "pygments_lexer": "ipython2",
   "version": "2.7.14"
  }
 },
 "nbformat": 4,
 "nbformat_minor": 2
}
