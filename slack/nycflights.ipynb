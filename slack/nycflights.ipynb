{
 "cells": [
  {
   "cell_type": "markdown",
   "metadata": {},
   "source": [
    "# nycflights13\n",
    "\n",
    "https://cran.r-project.org/web/packages/nycflights13/index.html\n",
    "\n",
    "Zainstaluj pakiet R (https://ftp.fau.de/cran/), a następnie wpisz w konsoli: R\n",
    "\n",
    "```r\n",
    "install.packages(\"nycflights13\")\n",
    "library(nycflights13)\n",
    "setwd(\"ustaw folder do ktorego zapiszesz dane\")\n",
    "write.csv(airlines, \"airlines.csv\")\n",
    "write.csv(airports, \"airports.csv\")\n",
    "write.csv(flights, \"flights.csv\")\n",
    "write.csv(weather, \"weather.csv\")\n",
    "write.csv(planes, \"planes.csv\")\n",
    "```\n"
   ]
  },
  {
   "cell_type": "markdown",
   "metadata": {},
   "source": [
    "### Zadanie\n",
    "Wczytaj ramki danych airlines, airports, flights, planes, weather i zapoznaj się znimi, w szczególności zobacz po czym będzie można je połączyć"
   ]
  },
  {
   "cell_type": "markdown",
   "metadata": {},
   "source": [
    "### Zadanie\n",
    "Utwórz tymczasową bazę danych, dodaj do niej powyższe tabele, a następnie za pomocą zapytania SQL wybierz interesujące nas kolumny, aby otrzymać jeden zbiór danych.\n",
    "\n",
    "Mozna spróbować zrobic to samo bez tworzenia bazy danych, a jedynie za pomocą metod `pd.DataFrame`.\n"
   ]
  },
  {
   "cell_type": "markdown",
   "metadata": {},
   "source": [
    "### Zadanie\n",
    "Dodaj dodatkową zmienną do zbioru `data[\"mean_speed\"] = data.distance / data.air_time` i poznanymi dotychczas metodami zamodeluj ją."
   ]
  }
 ],
 "metadata": {
  "kernelspec": {
   "display_name": "Python 3",
   "language": "python",
   "name": "python3"
  },
  "language_info": {
   "codemirror_mode": {
    "name": "ipython",
    "version": 3
   },
   "file_extension": ".py",
   "mimetype": "text/x-python",
   "name": "python",
   "nbconvert_exporter": "python",
   "pygments_lexer": "ipython3",
   "version": "3.6.2"
  }
 },
 "nbformat": 4,
 "nbformat_minor": 2
}
